{
  "cells": [
    {
      "cell_type": "markdown",
      "source": [
        "*Nicole Mathias*\n",
        "\n",
        "Instructions to run the notebook\n",
        "\n",
        "\n",
        "*   Add exercise.ipynb and content.csv to your drive (to specific folder) - my code will add it to a folder automatically."
      ],
      "metadata": {
        "id": "mmjGtnEgU-LP"
      }
    },
    {
      "cell_type": "markdown",
      "metadata": {
        "id": "Vql-4RvAUJVj"
      },
      "source": [
        "# Welcome to our ML project!\n",
        "\n",
        "This is a quick exercise to help demonstrate your familiarity with RAG systems - one might say that this is a place where you can b**RAG** about your skills! 🤣\n",
        "\n",
        "In this exercise, you will be asked to build a simple RAG system that answer some provided questions using the dataset provided. We expect this exercise to take 1-3 hours TOPS so use that to temper your approach to building this. We're not looking for reusable or production-level code - we're expressly looking for you to show us that you:\n",
        "\n",
        "* can explore an unknown dataset\n",
        "* can use an LLM (in this case, OpenAI's GPT-3) to build a simple RAG system\n",
        "\n",
        "## The Dataset\n",
        "\n",
        "You'll find the dataset in `content.csv`. It is a set of content about companies that has been scraped from the web. It contains the following columns:\n",
        "\n",
        "* `company_id`: a unique identifier for the company (UUID)\n",
        "* `company_name`: the name of the company\n",
        "* `url`: the URL from which the content was scraped\n",
        "* `chunk`: a chunk of the content that was scraped from the `url`\n",
        "* `chunk_hash`: a hash of the chunk\n",
        "* `chunk_id`: a unique identifier for the chunk of content\n",
        "* `chunk_type`: the type of the chunk of content (e.g. `header`, `footer`)\n",
        "\n",
        "\n",
        "Here's an example:\n",
        "\n",
        "|company_id|company_name|url|chunk_type|chunk_hash|chunk|chunk_id|\n",
        "|---|---|---|---|---|---|---|\n",
        "|4c1fde18-8a40-4ee7-9c3c-19152c7d1ff8|Aboitiz Group|https://aboitiz.com/about-us/the-aboitiz-way/|head|d312f0c688076be80ee2e4af8a51c2f10cbb993a4a8de779cb4aa5545fe1051f|\"<head>Aboitiz - The Aboitiz Way</head>\"|be36e2f0-cd0b-42eb-b36d-c9403c2428be|\n",
        "\n",
        "## Step 1: Explore the dataset\n",
        "\n",
        "Here are some questions that we'd like you to answer about the dataset:\n",
        "\n",
        "1. How many companies are in the dataset?\n",
        "2. How many unique URLs are in the dataset?\n",
        "3. What is the most common chunk type?\n",
        "4. What is the distribution of chunk types by company?"
      ]
    },
    {
      "cell_type": "code",
      "execution_count": null,
      "metadata": {
        "colab": {
          "base_uri": "https://localhost:8080/"
        },
        "id": "AhUSjSgJUJVl",
        "outputId": "dfe7807b-4677-413e-d451-9413efd07f38"
      },
      "outputs": [
        {
          "output_type": "stream",
          "name": "stdout",
          "text": [
            "Requirement already satisfied: pandas in /usr/local/lib/python3.10/dist-packages (2.0.3)\n",
            "Requirement already satisfied: python-dateutil>=2.8.2 in /usr/local/lib/python3.10/dist-packages (from pandas) (2.8.2)\n",
            "Requirement already satisfied: pytz>=2020.1 in /usr/local/lib/python3.10/dist-packages (from pandas) (2023.4)\n",
            "Requirement already satisfied: tzdata>=2022.1 in /usr/local/lib/python3.10/dist-packages (from pandas) (2024.1)\n",
            "Requirement already satisfied: numpy>=1.21.0 in /usr/local/lib/python3.10/dist-packages (from pandas) (1.25.2)\n",
            "Requirement already satisfied: six>=1.5 in /usr/local/lib/python3.10/dist-packages (from python-dateutil>=2.8.2->pandas) (1.16.0)\n",
            "Requirement already satisfied: matplotlib in /usr/local/lib/python3.10/dist-packages (3.7.1)\n",
            "Requirement already satisfied: contourpy>=1.0.1 in /usr/local/lib/python3.10/dist-packages (from matplotlib) (1.2.0)\n",
            "Requirement already satisfied: cycler>=0.10 in /usr/local/lib/python3.10/dist-packages (from matplotlib) (0.12.1)\n",
            "Requirement already satisfied: fonttools>=4.22.0 in /usr/local/lib/python3.10/dist-packages (from matplotlib) (4.50.0)\n",
            "Requirement already satisfied: kiwisolver>=1.0.1 in /usr/local/lib/python3.10/dist-packages (from matplotlib) (1.4.5)\n",
            "Requirement already satisfied: numpy>=1.20 in /usr/local/lib/python3.10/dist-packages (from matplotlib) (1.25.2)\n",
            "Requirement already satisfied: packaging>=20.0 in /usr/local/lib/python3.10/dist-packages (from matplotlib) (24.0)\n",
            "Requirement already satisfied: pillow>=6.2.0 in /usr/local/lib/python3.10/dist-packages (from matplotlib) (9.4.0)\n",
            "Requirement already satisfied: pyparsing>=2.3.1 in /usr/local/lib/python3.10/dist-packages (from matplotlib) (3.1.2)\n",
            "Requirement already satisfied: python-dateutil>=2.7 in /usr/local/lib/python3.10/dist-packages (from matplotlib) (2.8.2)\n",
            "Requirement already satisfied: six>=1.5 in /usr/local/lib/python3.10/dist-packages (from python-dateutil>=2.7->matplotlib) (1.16.0)\n",
            "Requirement already satisfied: openai in /usr/local/lib/python3.10/dist-packages (1.16.2)\n",
            "Requirement already satisfied: anyio<5,>=3.5.0 in /usr/local/lib/python3.10/dist-packages (from openai) (3.7.1)\n",
            "Requirement already satisfied: distro<2,>=1.7.0 in /usr/lib/python3/dist-packages (from openai) (1.7.0)\n",
            "Requirement already satisfied: httpx<1,>=0.23.0 in /usr/local/lib/python3.10/dist-packages (from openai) (0.27.0)\n",
            "Requirement already satisfied: pydantic<3,>=1.9.0 in /usr/local/lib/python3.10/dist-packages (from openai) (2.6.4)\n",
            "Requirement already satisfied: sniffio in /usr/local/lib/python3.10/dist-packages (from openai) (1.3.1)\n",
            "Requirement already satisfied: tqdm>4 in /usr/local/lib/python3.10/dist-packages (from openai) (4.66.2)\n",
            "Requirement already satisfied: typing-extensions<5,>=4.7 in /usr/local/lib/python3.10/dist-packages (from openai) (4.10.0)\n",
            "Requirement already satisfied: idna>=2.8 in /usr/local/lib/python3.10/dist-packages (from anyio<5,>=3.5.0->openai) (3.6)\n",
            "Requirement already satisfied: exceptiongroup in /usr/local/lib/python3.10/dist-packages (from anyio<5,>=3.5.0->openai) (1.2.0)\n",
            "Requirement already satisfied: certifi in /usr/local/lib/python3.10/dist-packages (from httpx<1,>=0.23.0->openai) (2024.2.2)\n",
            "Requirement already satisfied: httpcore==1.* in /usr/local/lib/python3.10/dist-packages (from httpx<1,>=0.23.0->openai) (1.0.5)\n",
            "Requirement already satisfied: h11<0.15,>=0.13 in /usr/local/lib/python3.10/dist-packages (from httpcore==1.*->httpx<1,>=0.23.0->openai) (0.14.0)\n",
            "Requirement already satisfied: annotated-types>=0.4.0 in /usr/local/lib/python3.10/dist-packages (from pydantic<3,>=1.9.0->openai) (0.6.0)\n",
            "Requirement already satisfied: pydantic-core==2.16.3 in /usr/local/lib/python3.10/dist-packages (from pydantic<3,>=1.9.0->openai) (2.16.3)\n"
          ]
        }
      ],
      "source": [
        "%pip install pandas\n",
        "%pip install matplotlib\n",
        "%pip install openai"
      ]
    },
    {
      "cell_type": "code",
      "source": [
        "# import pandas as pd\n",
        "import numpy as np\n",
        "import matplotlib.pyplot as plt\n",
        "import pandas as pd"
      ],
      "metadata": {
        "id": "SyxR7w6bUZn-"
      },
      "execution_count": 1,
      "outputs": []
    },
    {
      "cell_type": "code",
      "source": [
        "from google.colab import drive\n",
        "drive.mount('/content/drive')"
      ],
      "metadata": {
        "colab": {
          "base_uri": "https://localhost:8080/"
        },
        "id": "ZnjVN4qjU0mR",
        "outputId": "ab2d0b19-e5f4-487a-a6a0-3f9cea13d0a8"
      },
      "execution_count": 2,
      "outputs": [
        {
          "output_type": "stream",
          "name": "stdout",
          "text": [
            "Drive already mounted at /content/drive; to attempt to forcibly remount, call drive.mount(\"/content/drive\", force_remount=True).\n"
          ]
        }
      ]
    },
    {
      "cell_type": "code",
      "source": [
        "import os\n",
        "import shutil\n",
        "\n",
        "# The below code will move content.csv and exercise.ipynb to a specific folder\n",
        "# Just upload both the files to your drive (No need to add them to a folder, its all handled below)\n",
        "folder_path = \"/content/drive/MyDrive/gradient_works_data\"\n",
        "csv_file_path = \"/content/drive/MyDrive/content.csv\"\n",
        "py_file_path = \"/content/drive/MyDrive/exercise.ipynb\"\n",
        "\n",
        "if not os.path.exists(folder_path):\n",
        "  os.makedirs(folder_path)\n",
        "\n",
        "  shutil.move(py_file_path, folder_path)\n",
        "  shutil.move(csv_file_path, folder_path)\n",
        "\n",
        "\n",
        "os.chdir(folder_path)"
      ],
      "metadata": {
        "id": "N7v-R5TuU2Tt"
      },
      "execution_count": 3,
      "outputs": []
    },
    {
      "cell_type": "code",
      "source": [
        "# reading data from csv\n",
        "df = pd.read_csv('content.csv')"
      ],
      "metadata": {
        "id": "dUryU8cOVovz"
      },
      "execution_count": 143,
      "outputs": []
    },
    {
      "cell_type": "markdown",
      "source": [
        "### PART 1 Questions"
      ],
      "metadata": {
        "id": "luU2ySX_V4mo"
      }
    },
    {
      "cell_type": "code",
      "source": [
        "# 1. How many companies are in the dataset?\n",
        "no_companies = len(df['company_name'].unique())\n",
        "print(\"No. of Companies:\",no_companies)"
      ],
      "metadata": {
        "colab": {
          "base_uri": "https://localhost:8080/"
        },
        "id": "Q8Ii5lkgV7Cm",
        "outputId": "0443a6b0-aa42-4c16-9d23-aecf79537c63"
      },
      "execution_count": null,
      "outputs": [
        {
          "output_type": "stream",
          "name": "stdout",
          "text": [
            "No. of Companies: 75\n"
          ]
        }
      ]
    },
    {
      "cell_type": "code",
      "source": [
        "# 2. How many unique URLs are in the dataset?\n",
        "no_url = len(df['url'].unique())\n",
        "print(\"No. of unique URL's\",no_url)"
      ],
      "metadata": {
        "colab": {
          "base_uri": "https://localhost:8080/"
        },
        "id": "a5HsVjy7WFDX",
        "outputId": "f641260c-fbb9-4e19-b4f3-b545f762ef5a"
      },
      "execution_count": null,
      "outputs": [
        {
          "output_type": "stream",
          "name": "stdout",
          "text": [
            "No. of unique URL's 530\n"
          ]
        }
      ]
    },
    {
      "cell_type": "code",
      "source": [
        "# 3. What is the most common chunk type?\n",
        "most_common_chunk = df['chunk_type'].mode().item()\n",
        "print(\"Most common chunk:\",most_common_chunk)"
      ],
      "metadata": {
        "colab": {
          "base_uri": "https://localhost:8080/"
        },
        "id": "3VcXkmR3WJDF",
        "outputId": "49714849-ec02-4724-e23e-7b93fc1d6b02"
      },
      "execution_count": null,
      "outputs": [
        {
          "output_type": "stream",
          "name": "stdout",
          "text": [
            "Most common chunk: header\n"
          ]
        }
      ]
    },
    {
      "cell_type": "code",
      "source": [
        "# 4. What is the distribution of chunk types by company?\n",
        "\n",
        "# - group by companies and then for each company group get the count of chunk_types\n",
        "chunk_types = df.groupby(\"company_name\")[\"chunk_type\"].value_counts()\n",
        "\n",
        "chunk_grp_count = chunk_types.unstack(fill_value=0)\n",
        "chunk_grp_count"
      ],
      "metadata": {
        "colab": {
          "base_uri": "https://localhost:8080/",
          "height": 455
        },
        "id": "RBhmH1MUWMrn",
        "outputId": "85a1395b-2e77-4a0f-83a2-3932bf3c8a53"
      },
      "execution_count": null,
      "outputs": [
        {
          "output_type": "execute_result",
          "data": {
            "text/plain": [
              "chunk_type            footer  head  header  main\n",
              "company_name                                    \n",
              "24Hrbookkeeper             0     1       0     1\n",
              "365games.net              10    11      11    11\n",
              "4wheeltravels.com          0     2       0     2\n",
              "579twu.org                 0    11       0    11\n",
              "66corporation.com          4     4       4     4\n",
              "...                      ...   ...     ...   ...\n",
              "bhatiagraphica.com         5     5       7     0\n",
              "bijvoorbeeldzo            11    11      11    11\n",
              "bikesandmunchies.com       9     9       9     0\n",
              "bingotech.net              2     2       1     2\n",
              "contact@acom.co.id         2     2       1     2\n",
              "\n",
              "[75 rows x 4 columns]"
            ],
            "text/html": [
              "\n",
              "  <div id=\"df-723a8f68-47c0-4d68-9ebe-0d9906755545\" class=\"colab-df-container\">\n",
              "    <div>\n",
              "<style scoped>\n",
              "    .dataframe tbody tr th:only-of-type {\n",
              "        vertical-align: middle;\n",
              "    }\n",
              "\n",
              "    .dataframe tbody tr th {\n",
              "        vertical-align: top;\n",
              "    }\n",
              "\n",
              "    .dataframe thead th {\n",
              "        text-align: right;\n",
              "    }\n",
              "</style>\n",
              "<table border=\"1\" class=\"dataframe\">\n",
              "  <thead>\n",
              "    <tr style=\"text-align: right;\">\n",
              "      <th>chunk_type</th>\n",
              "      <th>footer</th>\n",
              "      <th>head</th>\n",
              "      <th>header</th>\n",
              "      <th>main</th>\n",
              "    </tr>\n",
              "    <tr>\n",
              "      <th>company_name</th>\n",
              "      <th></th>\n",
              "      <th></th>\n",
              "      <th></th>\n",
              "      <th></th>\n",
              "    </tr>\n",
              "  </thead>\n",
              "  <tbody>\n",
              "    <tr>\n",
              "      <th>24Hrbookkeeper</th>\n",
              "      <td>0</td>\n",
              "      <td>1</td>\n",
              "      <td>0</td>\n",
              "      <td>1</td>\n",
              "    </tr>\n",
              "    <tr>\n",
              "      <th>365games.net</th>\n",
              "      <td>10</td>\n",
              "      <td>11</td>\n",
              "      <td>11</td>\n",
              "      <td>11</td>\n",
              "    </tr>\n",
              "    <tr>\n",
              "      <th>4wheeltravels.com</th>\n",
              "      <td>0</td>\n",
              "      <td>2</td>\n",
              "      <td>0</td>\n",
              "      <td>2</td>\n",
              "    </tr>\n",
              "    <tr>\n",
              "      <th>579twu.org</th>\n",
              "      <td>0</td>\n",
              "      <td>11</td>\n",
              "      <td>0</td>\n",
              "      <td>11</td>\n",
              "    </tr>\n",
              "    <tr>\n",
              "      <th>66corporation.com</th>\n",
              "      <td>4</td>\n",
              "      <td>4</td>\n",
              "      <td>4</td>\n",
              "      <td>4</td>\n",
              "    </tr>\n",
              "    <tr>\n",
              "      <th>...</th>\n",
              "      <td>...</td>\n",
              "      <td>...</td>\n",
              "      <td>...</td>\n",
              "      <td>...</td>\n",
              "    </tr>\n",
              "    <tr>\n",
              "      <th>bhatiagraphica.com</th>\n",
              "      <td>5</td>\n",
              "      <td>5</td>\n",
              "      <td>7</td>\n",
              "      <td>0</td>\n",
              "    </tr>\n",
              "    <tr>\n",
              "      <th>bijvoorbeeldzo</th>\n",
              "      <td>11</td>\n",
              "      <td>11</td>\n",
              "      <td>11</td>\n",
              "      <td>11</td>\n",
              "    </tr>\n",
              "    <tr>\n",
              "      <th>bikesandmunchies.com</th>\n",
              "      <td>9</td>\n",
              "      <td>9</td>\n",
              "      <td>9</td>\n",
              "      <td>0</td>\n",
              "    </tr>\n",
              "    <tr>\n",
              "      <th>bingotech.net</th>\n",
              "      <td>2</td>\n",
              "      <td>2</td>\n",
              "      <td>1</td>\n",
              "      <td>2</td>\n",
              "    </tr>\n",
              "    <tr>\n",
              "      <th>contact@acom.co.id</th>\n",
              "      <td>2</td>\n",
              "      <td>2</td>\n",
              "      <td>1</td>\n",
              "      <td>2</td>\n",
              "    </tr>\n",
              "  </tbody>\n",
              "</table>\n",
              "<p>75 rows × 4 columns</p>\n",
              "</div>\n",
              "    <div class=\"colab-df-buttons\">\n",
              "\n",
              "  <div class=\"colab-df-container\">\n",
              "    <button class=\"colab-df-convert\" onclick=\"convertToInteractive('df-723a8f68-47c0-4d68-9ebe-0d9906755545')\"\n",
              "            title=\"Convert this dataframe to an interactive table.\"\n",
              "            style=\"display:none;\">\n",
              "\n",
              "  <svg xmlns=\"http://www.w3.org/2000/svg\" height=\"24px\" viewBox=\"0 -960 960 960\">\n",
              "    <path d=\"M120-120v-720h720v720H120Zm60-500h600v-160H180v160Zm220 220h160v-160H400v160Zm0 220h160v-160H400v160ZM180-400h160v-160H180v160Zm440 0h160v-160H620v160ZM180-180h160v-160H180v160Zm440 0h160v-160H620v160Z\"/>\n",
              "  </svg>\n",
              "    </button>\n",
              "\n",
              "  <style>\n",
              "    .colab-df-container {\n",
              "      display:flex;\n",
              "      gap: 12px;\n",
              "    }\n",
              "\n",
              "    .colab-df-convert {\n",
              "      background-color: #E8F0FE;\n",
              "      border: none;\n",
              "      border-radius: 50%;\n",
              "      cursor: pointer;\n",
              "      display: none;\n",
              "      fill: #1967D2;\n",
              "      height: 32px;\n",
              "      padding: 0 0 0 0;\n",
              "      width: 32px;\n",
              "    }\n",
              "\n",
              "    .colab-df-convert:hover {\n",
              "      background-color: #E2EBFA;\n",
              "      box-shadow: 0px 1px 2px rgba(60, 64, 67, 0.3), 0px 1px 3px 1px rgba(60, 64, 67, 0.15);\n",
              "      fill: #174EA6;\n",
              "    }\n",
              "\n",
              "    .colab-df-buttons div {\n",
              "      margin-bottom: 4px;\n",
              "    }\n",
              "\n",
              "    [theme=dark] .colab-df-convert {\n",
              "      background-color: #3B4455;\n",
              "      fill: #D2E3FC;\n",
              "    }\n",
              "\n",
              "    [theme=dark] .colab-df-convert:hover {\n",
              "      background-color: #434B5C;\n",
              "      box-shadow: 0px 1px 3px 1px rgba(0, 0, 0, 0.15);\n",
              "      filter: drop-shadow(0px 1px 2px rgba(0, 0, 0, 0.3));\n",
              "      fill: #FFFFFF;\n",
              "    }\n",
              "  </style>\n",
              "\n",
              "    <script>\n",
              "      const buttonEl =\n",
              "        document.querySelector('#df-723a8f68-47c0-4d68-9ebe-0d9906755545 button.colab-df-convert');\n",
              "      buttonEl.style.display =\n",
              "        google.colab.kernel.accessAllowed ? 'block' : 'none';\n",
              "\n",
              "      async function convertToInteractive(key) {\n",
              "        const element = document.querySelector('#df-723a8f68-47c0-4d68-9ebe-0d9906755545');\n",
              "        const dataTable =\n",
              "          await google.colab.kernel.invokeFunction('convertToInteractive',\n",
              "                                                    [key], {});\n",
              "        if (!dataTable) return;\n",
              "\n",
              "        const docLinkHtml = 'Like what you see? Visit the ' +\n",
              "          '<a target=\"_blank\" href=https://colab.research.google.com/notebooks/data_table.ipynb>data table notebook</a>'\n",
              "          + ' to learn more about interactive tables.';\n",
              "        element.innerHTML = '';\n",
              "        dataTable['output_type'] = 'display_data';\n",
              "        await google.colab.output.renderOutput(dataTable, element);\n",
              "        const docLink = document.createElement('div');\n",
              "        docLink.innerHTML = docLinkHtml;\n",
              "        element.appendChild(docLink);\n",
              "      }\n",
              "    </script>\n",
              "  </div>\n",
              "\n",
              "\n",
              "<div id=\"df-bf0eb6d7-a9fe-4c60-bf23-5451f0ca3ccb\">\n",
              "  <button class=\"colab-df-quickchart\" onclick=\"quickchart('df-bf0eb6d7-a9fe-4c60-bf23-5451f0ca3ccb')\"\n",
              "            title=\"Suggest charts\"\n",
              "            style=\"display:none;\">\n",
              "\n",
              "<svg xmlns=\"http://www.w3.org/2000/svg\" height=\"24px\"viewBox=\"0 0 24 24\"\n",
              "     width=\"24px\">\n",
              "    <g>\n",
              "        <path d=\"M19 3H5c-1.1 0-2 .9-2 2v14c0 1.1.9 2 2 2h14c1.1 0 2-.9 2-2V5c0-1.1-.9-2-2-2zM9 17H7v-7h2v7zm4 0h-2V7h2v10zm4 0h-2v-4h2v4z\"/>\n",
              "    </g>\n",
              "</svg>\n",
              "  </button>\n",
              "\n",
              "<style>\n",
              "  .colab-df-quickchart {\n",
              "      --bg-color: #E8F0FE;\n",
              "      --fill-color: #1967D2;\n",
              "      --hover-bg-color: #E2EBFA;\n",
              "      --hover-fill-color: #174EA6;\n",
              "      --disabled-fill-color: #AAA;\n",
              "      --disabled-bg-color: #DDD;\n",
              "  }\n",
              "\n",
              "  [theme=dark] .colab-df-quickchart {\n",
              "      --bg-color: #3B4455;\n",
              "      --fill-color: #D2E3FC;\n",
              "      --hover-bg-color: #434B5C;\n",
              "      --hover-fill-color: #FFFFFF;\n",
              "      --disabled-bg-color: #3B4455;\n",
              "      --disabled-fill-color: #666;\n",
              "  }\n",
              "\n",
              "  .colab-df-quickchart {\n",
              "    background-color: var(--bg-color);\n",
              "    border: none;\n",
              "    border-radius: 50%;\n",
              "    cursor: pointer;\n",
              "    display: none;\n",
              "    fill: var(--fill-color);\n",
              "    height: 32px;\n",
              "    padding: 0;\n",
              "    width: 32px;\n",
              "  }\n",
              "\n",
              "  .colab-df-quickchart:hover {\n",
              "    background-color: var(--hover-bg-color);\n",
              "    box-shadow: 0 1px 2px rgba(60, 64, 67, 0.3), 0 1px 3px 1px rgba(60, 64, 67, 0.15);\n",
              "    fill: var(--button-hover-fill-color);\n",
              "  }\n",
              "\n",
              "  .colab-df-quickchart-complete:disabled,\n",
              "  .colab-df-quickchart-complete:disabled:hover {\n",
              "    background-color: var(--disabled-bg-color);\n",
              "    fill: var(--disabled-fill-color);\n",
              "    box-shadow: none;\n",
              "  }\n",
              "\n",
              "  .colab-df-spinner {\n",
              "    border: 2px solid var(--fill-color);\n",
              "    border-color: transparent;\n",
              "    border-bottom-color: var(--fill-color);\n",
              "    animation:\n",
              "      spin 1s steps(1) infinite;\n",
              "  }\n",
              "\n",
              "  @keyframes spin {\n",
              "    0% {\n",
              "      border-color: transparent;\n",
              "      border-bottom-color: var(--fill-color);\n",
              "      border-left-color: var(--fill-color);\n",
              "    }\n",
              "    20% {\n",
              "      border-color: transparent;\n",
              "      border-left-color: var(--fill-color);\n",
              "      border-top-color: var(--fill-color);\n",
              "    }\n",
              "    30% {\n",
              "      border-color: transparent;\n",
              "      border-left-color: var(--fill-color);\n",
              "      border-top-color: var(--fill-color);\n",
              "      border-right-color: var(--fill-color);\n",
              "    }\n",
              "    40% {\n",
              "      border-color: transparent;\n",
              "      border-right-color: var(--fill-color);\n",
              "      border-top-color: var(--fill-color);\n",
              "    }\n",
              "    60% {\n",
              "      border-color: transparent;\n",
              "      border-right-color: var(--fill-color);\n",
              "    }\n",
              "    80% {\n",
              "      border-color: transparent;\n",
              "      border-right-color: var(--fill-color);\n",
              "      border-bottom-color: var(--fill-color);\n",
              "    }\n",
              "    90% {\n",
              "      border-color: transparent;\n",
              "      border-bottom-color: var(--fill-color);\n",
              "    }\n",
              "  }\n",
              "</style>\n",
              "\n",
              "  <script>\n",
              "    async function quickchart(key) {\n",
              "      const quickchartButtonEl =\n",
              "        document.querySelector('#' + key + ' button');\n",
              "      quickchartButtonEl.disabled = true;  // To prevent multiple clicks.\n",
              "      quickchartButtonEl.classList.add('colab-df-spinner');\n",
              "      try {\n",
              "        const charts = await google.colab.kernel.invokeFunction(\n",
              "            'suggestCharts', [key], {});\n",
              "      } catch (error) {\n",
              "        console.error('Error during call to suggestCharts:', error);\n",
              "      }\n",
              "      quickchartButtonEl.classList.remove('colab-df-spinner');\n",
              "      quickchartButtonEl.classList.add('colab-df-quickchart-complete');\n",
              "    }\n",
              "    (() => {\n",
              "      let quickchartButtonEl =\n",
              "        document.querySelector('#df-bf0eb6d7-a9fe-4c60-bf23-5451f0ca3ccb button');\n",
              "      quickchartButtonEl.style.display =\n",
              "        google.colab.kernel.accessAllowed ? 'block' : 'none';\n",
              "    })();\n",
              "  </script>\n",
              "</div>\n",
              "    </div>\n",
              "  </div>\n"
            ],
            "application/vnd.google.colaboratory.intrinsic+json": {
              "type": "dataframe",
              "variable_name": "chunk_grp_count",
              "summary": "{\n  \"name\": \"chunk_grp_count\",\n  \"rows\": 75,\n  \"fields\": [\n    {\n      \"column\": \"company_name\",\n      \"properties\": {\n        \"dtype\": \"string\",\n        \"num_unique_values\": 75,\n        \"samples\": [\n          \"66corporation.com\",\n          \"accentronix.co.za\",\n          \"ABBE Technology Solutions Inc\"\n        ],\n        \"semantic_type\": \"\",\n        \"description\": \"\"\n      }\n    },\n    {\n      \"column\": \"footer\",\n      \"properties\": {\n        \"dtype\": \"number\",\n        \"std\": 4,\n        \"min\": 0,\n        \"max\": 18,\n        \"num_unique_values\": 11,\n        \"samples\": [\n          18,\n          0,\n          5\n        ],\n        \"semantic_type\": \"\",\n        \"description\": \"\"\n      }\n    },\n    {\n      \"column\": \"head\",\n      \"properties\": {\n        \"dtype\": \"number\",\n        \"std\": 4,\n        \"min\": 1,\n        \"max\": 11,\n        \"num_unique_values\": 9,\n        \"samples\": [\n          7,\n          11,\n          9\n        ],\n        \"semantic_type\": \"\",\n        \"description\": \"\"\n      }\n    },\n    {\n      \"column\": \"header\",\n      \"properties\": {\n        \"dtype\": \"number\",\n        \"std\": 6,\n        \"min\": 0,\n        \"max\": 23,\n        \"num_unique_values\": 15,\n        \"samples\": [\n          1,\n          7,\n          0\n        ],\n        \"semantic_type\": \"\",\n        \"description\": \"\"\n      }\n    },\n    {\n      \"column\": \"main\",\n      \"properties\": {\n        \"dtype\": \"number\",\n        \"std\": 5,\n        \"min\": 0,\n        \"max\": 18,\n        \"num_unique_values\": 17,\n        \"samples\": [\n          1,\n          11,\n          9\n        ],\n        \"semantic_type\": \"\",\n        \"description\": \"\"\n      }\n    }\n  ]\n}"
            }
          },
          "metadata": {},
          "execution_count": 11
        }
      ]
    },
    {
      "cell_type": "code",
      "source": [
        "# Creating a plot for Q.4\n",
        "colors = ['teal', 'brown', 'orange', 'red']\n",
        "\n",
        "chunk_grp_count.plot(kind='bar', stacked=True, color=colors,\n",
        "                     xlabel='Company name',\n",
        "                     ylabel='Count by chunk type',\n",
        "                     title='Distribution of Chunk Types by Company',\n",
        "                     figsize=(20,10)\n",
        "                     )"
      ],
      "metadata": {
        "colab": {
          "base_uri": "https://localhost:8080/",
          "height": 810
        },
        "id": "o0WBcinLW5oQ",
        "outputId": "0f0b5c14-01af-48bf-bade-be37952537c2"
      },
      "execution_count": null,
      "outputs": [
        {
          "output_type": "execute_result",
          "data": {
            "text/plain": [
              "<Axes: title={'center': 'Distribution of Chunk Types by Company'}, xlabel='Company name', ylabel='Count by chunk type'>"
            ]
          },
          "metadata": {},
          "execution_count": 20
        },
        {
          "output_type": "display_data",
          "data": {
            "text/plain": [
              "<Figure size 2000x1000 with 1 Axes>"
            ],
            "image/png": "[encoded data removed]"
          },
          "metadata": {}
        }
      ]
    },
    {
      "cell_type": "markdown",
      "metadata": {
        "id": "EapiCF4lUJVl"
      },
      "source": [
        "## Step 2: RAGtime!\n",
        "\n",
        "Now that you're a little more familar with the dataset, let's build a simple RAG system that uses OpenAI to help answer some questions about the dataset. To reiterate, we don't expect you to add anything else to the environment to build this system - for example, you don't need to set up a database or anything like that. You can add any libraries you need to the environment, but we'd like you to use OpenAI for any and all tasks that require a language model (we'll send you a key to use).\n",
        "\n",
        "That being said, we'd like you to show the specifics of how a RAG implementation works so please avoid using any libraries that provide end-to-end RAG implementations.\n",
        "\n",
        "Here is the question that we'd like you to answer via your RAG system:\n",
        "\n",
        "1. What does the company Caravan Health do?"
      ]
    },
    {
      "cell_type": "code",
      "source": [
        "# Steps for preparing the model:\n",
        "# 1) Getting data & cleaning it - Cleaning can invloving preprocessing like removing stop-words and other information retrieval techniques.\n",
        "# 2) Chunking logic - based on token size of the embedding and LLM model\n",
        "# 3) Embedding the chunks\n",
        "\n",
        "# Steps for query\n",
        "# 1) Getting the query\n",
        "# 2) If query is too long - chunk it\n",
        "# 3) Embed the query\n",
        "\n",
        "# Similarity and scoring mechanism\n",
        "# 1) Find the similarity scores (cosine) between query embeddings and the chunk embeddings\n",
        "# 2) Based on the scores, retrieve top k docs\n",
        "\n",
        "# Generating answers\n",
        "# 1) Use the top k documents as context and provide it to the LLM model"
      ],
      "metadata": {
        "id": "7G9DBsM7YXr-"
      },
      "execution_count": null,
      "outputs": []
    },
    {
      "cell_type": "markdown",
      "source": [
        "### Data Scraping - Retrieving data from HTML tags\n",
        "\n",
        "- Using Beautiful soup to parse the html tags and obtain data.\n",
        "- There are other tools like selenium as well"
      ],
      "metadata": {
        "id": "PWhV_x0XY5eE"
      }
    },
    {
      "cell_type": "code",
      "source": [
        "%pip install beautifulsoup4"
      ],
      "metadata": {
        "colab": {
          "base_uri": "https://localhost:8080/"
        },
        "id": "rwNSb5pvY9Tq",
        "outputId": "4c742b52-1a36-43ac-cc1b-bfe4953dc2db"
      },
      "execution_count": null,
      "outputs": [
        {
          "output_type": "stream",
          "name": "stdout",
          "text": [
            "Requirement already satisfied: beautifulsoup4 in /usr/local/lib/python3.10/dist-packages (4.12.3)\n",
            "Requirement already satisfied: soupsieve>1.2 in /usr/local/lib/python3.10/dist-packages (from beautifulsoup4) (2.5)\n"
          ]
        }
      ]
    },
    {
      "cell_type": "code",
      "source": [
        "from bs4 import BeautifulSoup"
      ],
      "metadata": {
        "id": "TZdtoSIXY_bA"
      },
      "execution_count": null,
      "outputs": []
    },
    {
      "cell_type": "code",
      "source": [
        "# function to parse html tags and extract data\n",
        "def text_cleaner():\n",
        "  df['desc'] = ''\n",
        "\n",
        "  for idx in range(len(df)):\n",
        "    chunk_content = df['chunk'][idx]\n",
        "    company_name = df['company_name'][idx]\n",
        "\n",
        "    content = BeautifulSoup(chunk_content,'lxml')\n",
        "\n",
        "    text_content = content.get_text(separator = '\\n', strip = True)\n",
        "    df['desc'][idx] = company_name + \" \" + text_content"
      ],
      "metadata": {
        "id": "SsPDU_MkZjJQ"
      },
      "execution_count": null,
      "outputs": []
    },
    {
      "cell_type": "code",
      "source": [
        "text_cleaner()\n",
        "print(\"---Html data was cleaned---\")"
      ],
      "metadata": {
        "colab": {
          "base_uri": "https://localhost:8080/"
        },
        "id": "ijUpIeL2atXv",
        "outputId": "91e35b33-3d24-45f0-a54a-b918594b0274"
      },
      "execution_count": null,
      "outputs": [
        {
          "output_type": "stream",
          "name": "stdout",
          "text": [
            "---Html data was cleaned---\n"
          ]
        }
      ]
    },
    {
      "cell_type": "markdown",
      "source": [
        "### Chunking logic\n",
        "\n",
        "\n",
        "*   Chunking is being performed in order to create list of tokens - that can be fed to the embedding model.\n",
        "\n",
        "*   Embedding models have different token sizes and we can develop a chunking logic based on the specific embedding model and LLM, but to keep it simple I will use a token size = 512 (most of the models use 512 size size currently. So this code can be easily mapped to other embedding models if required - I would want to try more models and experiment to make a conclusion)\n",
        "\n",
        "* I made the above point because, based on analysis there were chunks in languages other than English as well, so a multi-lingual model would be required for it - so it is safe to use a size of 512\n",
        "\n",
        "\n",
        "\n",
        "**Additional text preprocessing steps can be performed:**\n",
        "\n",
        "\n",
        "1.   Removal of stop-words (common words like a, the) which will improve query-document matching during retrieval.\n",
        "\n",
        "2. Converting all the words to lowercase - might improve the embeddings.\n",
        "\n",
        "3.   Using a bag of words model (used in NLP) is a simple way of using embeddings without a pretrained model\n",
        "\n",
        "\n",
        "\n",
        "\n",
        "\n",
        "\n",
        "\n"
      ],
      "metadata": {
        "id": "NIbC_hKGbNg1"
      }
    },
    {
      "cell_type": "code",
      "source": [
        "import re"
      ],
      "metadata": {
        "id": "UgT49-s9bTX2"
      },
      "execution_count": null,
      "outputs": []
    },
    {
      "cell_type": "markdown",
      "source": [
        "Data splitting logic:\n",
        "\n",
        "1.   I am splitting every data chunk sentence-wise. (Splitting it paragraph-wise and then breaking it down would have been better for context: will look into this later)\n",
        "\n",
        "2.   After I have my individual sentence - I split the sentence and check if the no. of token <= 512, then I keep it intact\n",
        "\n",
        "3. If no. of tokens > 512, then I break the token list into smaller sublist's.\n",
        "\n",
        "4. Also, experiments can be performed by changing the chunk size and chunk overlap which will help determine which setting workds best for our given task.\n",
        "\n",
        "*The above logic is based on preserving context of the data, which is better than randomly splitting*\n"
      ],
      "metadata": {
        "id": "ukSyogw9e47d"
      }
    },
    {
      "cell_type": "code",
      "source": [
        "def split_tokens(tokens, max_size):\n",
        "\n",
        "  if not tokens:\n",
        "      return []\n",
        "\n",
        "  # If the length of tokens is less than or equal to max_size, return the tokens as a single sublist\n",
        "  if len(tokens) <= max_size:\n",
        "    return tokens\n",
        "\n",
        "  # Split the tokens into two parts: the first max_size tokens and the rest\n",
        "  first_part = tokens[:max_size]\n",
        "  remaining_tokens = tokens[max_size:]\n",
        "\n",
        "  # Recursively split the remaining tokens\n",
        "  remaining_parts = split_tokens(remaining_tokens, max_size)\n",
        "\n",
        "  # Combine the first part with the recursively split remaining parts\n",
        "  return first_part + remaining_parts"
      ],
      "metadata": {
        "id": "78y_PMDQdqJU"
      },
      "execution_count": null,
      "outputs": []
    },
    {
      "cell_type": "markdown",
      "source": [
        "**I wanted to come back and implement the overlap context feature below - but the creation of embeddings took more time than I imagined.**\n",
        "\n",
        "*Advantage: This feature would be useful.\n",
        "Remember, I had split the data based on sentences, but from my observation there were sentences which exceeded the max token limit of 512, so I broke the sentence into a sub-sentences.\n",
        "The problem here is that these broken sentences loose context, and my idea of preserving the context was through overlapping some of the data*"
      ],
      "metadata": {
        "id": "w8y8AIoOzt5N"
      }
    },
    {
      "cell_type": "code",
      "source": [
        "def create_chunks(max_size):\n",
        "  max_size = max_size  # Maximum size for each sublist\n",
        "\n",
        "  df['chunked_data'] = ''\n",
        "\n",
        "  # overlapping data from previous context - I am keeping it fixed and can experiment with it later (this is the baseline)\n",
        "  for idx in range(len(df)):\n",
        "    # data_split = re.split(r'\\.|\\s+', df['desc'][idx]) # split the desc based on '.' or ' '\n",
        "    data_split = re.split(r'\\.',df['desc'][idx])\n",
        "\n",
        "    sentence_chunks = []\n",
        "    for sent in data_split:\n",
        "      # calling the function to split and tokenize sentences\n",
        "      sentence = \" \".join(split_tokens(sent.split(), max_size))\n",
        "      sentence_chunks.append(sentence)\n",
        "\n",
        "    # df['chunked_data'][idx] = split_tokens(data_split, max_size)\n",
        "    df['chunked_data'][idx] = sentence_chunks\n"
      ],
      "metadata": {
        "id": "4AMdYzHfd5b-"
      },
      "execution_count": null,
      "outputs": []
    },
    {
      "cell_type": "code",
      "source": [
        "max_size = 512\n",
        "create_chunks(max_size)\n",
        "\n",
        "print(\"---Data has been chunked---\")"
      ],
      "metadata": {
        "colab": {
          "base_uri": "https://localhost:8080/"
        },
        "id": "I5rzTMoCgY5_",
        "outputId": "40129fbc-3d3d-4de6-b801-34bda84dc058"
      },
      "execution_count": null,
      "outputs": [
        {
          "output_type": "stream",
          "name": "stdout",
          "text": [
            "---Data has been chunked---\n"
          ]
        }
      ]
    },
    {
      "cell_type": "markdown",
      "source": [
        "saving the dataframe for a backup - this is not a necessary step\n"
      ],
      "metadata": {
        "id": "1DuYyd6F3Fx7"
      }
    },
    {
      "cell_type": "code",
      "source": [
        "# using pickle - which preserving the data perfectly, even json is another good option\n",
        "import pickle\n",
        "with open('df_pickle.pkl', 'wb') as f:\n",
        "    pickle.dump(df, f)"
      ],
      "metadata": {
        "id": "t-e1AoSSgjvr"
      },
      "execution_count": null,
      "outputs": []
    },
    {
      "cell_type": "markdown",
      "source": [
        " ### Embeddding Logic and getting top k docs\n",
        "\n",
        "\n",
        "*   Saved the API auth key as a secret key named as auth_key\n",
        "\n"
      ],
      "metadata": {
        "id": "0DqJYcZBhyD1"
      }
    },
    {
      "cell_type": "code",
      "source": [
        "%pip install openai"
      ],
      "metadata": {
        "colab": {
          "base_uri": "https://localhost:8080/"
        },
        "id": "ubNkFAWUh1_v",
        "outputId": "29b10621-5fa2-4fbb-fce0-451a19c55ff6"
      },
      "execution_count": null,
      "outputs": [
        {
          "output_type": "stream",
          "name": "stdout",
          "text": [
            "Requirement already satisfied: openai in /usr/local/lib/python3.10/dist-packages (1.16.2)\n",
            "Requirement already satisfied: anyio<5,>=3.5.0 in /usr/local/lib/python3.10/dist-packages (from openai) (3.7.1)\n",
            "Requirement already satisfied: distro<2,>=1.7.0 in /usr/lib/python3/dist-packages (from openai) (1.7.0)\n",
            "Requirement already satisfied: httpx<1,>=0.23.0 in /usr/local/lib/python3.10/dist-packages (from openai) (0.27.0)\n",
            "Requirement already satisfied: pydantic<3,>=1.9.0 in /usr/local/lib/python3.10/dist-packages (from openai) (2.6.4)\n",
            "Requirement already satisfied: sniffio in /usr/local/lib/python3.10/dist-packages (from openai) (1.3.1)\n",
            "Requirement already satisfied: tqdm>4 in /usr/local/lib/python3.10/dist-packages (from openai) (4.66.2)\n",
            "Requirement already satisfied: typing-extensions<5,>=4.7 in /usr/local/lib/python3.10/dist-packages (from openai) (4.10.0)\n",
            "Requirement already satisfied: idna>=2.8 in /usr/local/lib/python3.10/dist-packages (from anyio<5,>=3.5.0->openai) (3.6)\n",
            "Requirement already satisfied: exceptiongroup in /usr/local/lib/python3.10/dist-packages (from anyio<5,>=3.5.0->openai) (1.2.0)\n",
            "Requirement already satisfied: certifi in /usr/local/lib/python3.10/dist-packages (from httpx<1,>=0.23.0->openai) (2024.2.2)\n",
            "Requirement already satisfied: httpcore==1.* in /usr/local/lib/python3.10/dist-packages (from httpx<1,>=0.23.0->openai) (1.0.5)\n",
            "Requirement already satisfied: h11<0.15,>=0.13 in /usr/local/lib/python3.10/dist-packages (from httpcore==1.*->httpx<1,>=0.23.0->openai) (0.14.0)\n",
            "Requirement already satisfied: annotated-types>=0.4.0 in /usr/local/lib/python3.10/dist-packages (from pydantic<3,>=1.9.0->openai) (0.6.0)\n",
            "Requirement already satisfied: pydantic-core==2.16.3 in /usr/local/lib/python3.10/dist-packages (from pydantic<3,>=1.9.0->openai) (2.16.3)\n"
          ]
        }
      ]
    },
    {
      "cell_type": "code",
      "source": [
        "import openai"
      ],
      "metadata": {
        "id": "79L8lz5QiTPs"
      },
      "execution_count": 4,
      "outputs": []
    },
    {
      "cell_type": "code",
      "source": [
        "from google.colab import userdata\n",
        "API_AUTH = userdata.get('auth_key')"
      ],
      "metadata": {
        "id": "fFB7WlSXh6PX"
      },
      "execution_count": 5,
      "outputs": []
    },
    {
      "cell_type": "code",
      "source": [
        "openai.api_key = API_AUTH"
      ],
      "metadata": {
        "id": "5kri4LtCiP9J"
      },
      "execution_count": 6,
      "outputs": []
    },
    {
      "cell_type": "code",
      "source": [
        "# getting embeddings for the chunked data and saving them\n",
        "def get_embedding(text_to_embed):\n",
        "  # Embed the list of text\n",
        "  response = openai.embeddings.create(\n",
        "    model = \"text-embedding-3-small\",\n",
        "    input = text_to_embed\n",
        "  )\n",
        "\n",
        "  # embeddings = []\n",
        "\n",
        "  # for i in range(embed_len):\n",
        "  #   embeddings.append(response.data[i].embedding)\n",
        "\n",
        "  return response.data[0].embedding"
      ],
      "metadata": {
        "id": "jFGloqWNiSBs"
      },
      "execution_count": 7,
      "outputs": []
    },
    {
      "cell_type": "code",
      "source": [
        "df['embeddings'] = ''\n",
        "for idx in range(len(df)):\n",
        "  embeddings_list = []\n",
        "\n",
        "  for chunk in df['chunked_data'][idx]:\n",
        "    embeddings_list.append(get_embedding(chunk))\n",
        "\n",
        "  df['embeddings'][idx] = embeddings_list\n"
      ],
      "metadata": {
        "id": "pHs4_Kb7tJl_"
      },
      "execution_count": null,
      "outputs": []
    },
    {
      "cell_type": "markdown",
      "source": [
        "**Since I am not creating a vector DB to store the embeddings, I will try to simulate it using simple file storage.**\n",
        "\n",
        "* Created a pickle file which contains the embeddings and the source information.\n",
        "\n",
        "\n",
        "*   My vector DB would contain - (chunk_id-unique attribute, embeddings)\n",
        "\n",
        "\n",
        "\n",
        "*Advantage: Embeddings need to be created only once (only if we do not change the embedding model) - so I can store the current embeddings and keep adding new ones as more data is added to the system*"
      ],
      "metadata": {
        "id": "41t9_M17xvpO"
      }
    },
    {
      "cell_type": "markdown",
      "source": [
        "**Query Embeddings**"
      ],
      "metadata": {
        "id": "ptiW30pR4eqc"
      }
    },
    {
      "cell_type": "markdown",
      "source": [
        "**Improvement:**\n",
        "* Before Deep Learning models, the same tasks were performed using information retrieval systems (used in search engines as well)\n",
        "\n",
        "* I propose a similar system - We can match the keywords of the query with the documents - there is a whole different technique of using bag of words as embeddings, word normalizations, creating dictionaries, scoring and retrieving the top k documents. I have worked on this task in the past and it works well (but not perfectly, nothing is) and is used in elastic search.\n",
        "\n",
        "* Suggestion: We can use both embeddings and this information retrieval technique and then check which model has retrieved better documents and based on that use our LLM to prepare an answer."
      ],
      "metadata": {
        "id": "L9YJl3KF-L0p"
      }
    },
    {
      "cell_type": "code",
      "source": [
        "query = \"What does the company Caravan Health do?\"\n",
        "query_embedding = get_embedding(query)\n",
        "# query_embedding"
      ],
      "metadata": {
        "id": "vIt8pRXq-F_p"
      },
      "execution_count": 8,
      "outputs": []
    },
    {
      "cell_type": "markdown",
      "source": [
        "**Retrieving top k documents based on similarity scores**\n",
        "\n",
        "* There are various scoring mechanisms which we can experiment with.\n",
        "* I have used cosine score, because it is quick ( uses dot product in calculations) and relatively good.\n",
        "\n",
        "**Improvement**: I would also re-rank the documents, because I know there were some chunks which did not have any data (i.e the html parser did not produce any data) - So I just added the company name as data for such cases. But at this point these documents are not so useful and it would rather make sense re-rank the documents and get better data."
      ],
      "metadata": {
        "id": "NWgc1oHc-47Q"
      }
    },
    {
      "cell_type": "code",
      "source": [
        "%pip install scikit-learn"
      ],
      "metadata": {
        "id": "i3qBG66pp558"
      },
      "execution_count": null,
      "outputs": []
    },
    {
      "cell_type": "code",
      "source": [
        "from sklearn.metrics.pairwise import cosine_similarity"
      ],
      "metadata": {
        "id": "l2NRw3L-ppEr"
      },
      "execution_count": 9,
      "outputs": []
    },
    {
      "cell_type": "code",
      "source": [
        "# generating scores using cosine distance\n",
        "def get_score(query, document):\n",
        "  similarity = cosine_similarity(np.array(query).reshape(-1,1), np.array(document).reshape(-1,1))\n",
        "\n",
        "  similarity = np.array(similarity)\n",
        "  cosine_scores = np.mean(similarity)\n",
        "\n",
        "  return cosine_scores"
      ],
      "metadata": {
        "id": "2SYjnsg7p335"
      },
      "execution_count": 10,
      "outputs": []
    },
    {
      "cell_type": "code",
      "source": [
        "def retrieve_top_docs(query_embedding, k):\n",
        "  score_dict = {}\n",
        "\n",
        "  for idx in range(len(df)):\n",
        "  score_dict[df['chunk_id'][idx]] = get_score(query_embedding,df['embeddings'][idx])\n",
        "\n",
        "  sorted_cosine = dict(sorted(score_dict.items(), key=lambda item: item[1], reverse=True))\n",
        "  top_k = dict(list(sorted_cosine.items())[:k])\n",
        "\n",
        "  return score_dict"
      ],
      "metadata": {
        "id": "wrnYKKHR_Hc8"
      },
      "execution_count": null,
      "outputs": []
    },
    {
      "cell_type": "markdown",
      "source": [
        "All cosine scores are stored in the below pickle file along with thier chunk_id -\n",
        "* I am directly retrieving it from a saved file, because I accidentally overwrote my embeddings file earlier and then had a series of issues --> creating embeddings again is very costly, so I left it as is for now"
      ],
      "metadata": {
        "id": "7IbeavTx3Ijn"
      }
    },
    {
      "cell_type": "code",
      "source": [
        "# import pickle\n",
        "with open('all_scores.pkl', 'rb') as f:\n",
        "  all_scores = pd.DataFrame(pickle.load(f))"
      ],
      "metadata": {
        "id": "XmneToTayN5S"
      },
      "execution_count": 144,
      "outputs": []
    },
    {
      "cell_type": "code",
      "source": [
        "with open('df_pickle.pkl', 'rb') as f:\n",
        "  df = pd.DataFrame(pickle.load(f))"
      ],
      "metadata": {
        "id": "P5iFlSUa1Bri"
      },
      "execution_count": 145,
      "outputs": []
    },
    {
      "cell_type": "code",
      "source": [
        "def get_context(k, all_scores, df):\n",
        "  context_data = ''\n",
        "  top_scores = all_scores.nlargest(k, 'score')\n",
        "  top_scores_id = top_scores[\"chunk_id\"]\n",
        "\n",
        "  for i in range(k):\n",
        "    id = top_10_scores.iloc[i]['chunk_id']\n",
        "    context_data += df.loc[df['chunk_id'] == id, 'desc'].values\n",
        "\n",
        "  return context_data[0]"
      ],
      "metadata": {
        "id": "rZtkEgQt0vSv"
      },
      "execution_count": 158,
      "outputs": []
    },
    {
      "cell_type": "markdown",
      "source": [
        "### Generating a response"
      ],
      "metadata": {
        "id": "1P26TN7VNdo1"
      }
    },
    {
      "cell_type": "code",
      "source": [
        "context = get_context(10, all_scores, df)\n",
        "query = \"What does the company Caravan Health do?\"\n",
        "\n",
        "\n",
        "\n",
        "response = openai.chat.completions.create(\n",
        "    messages = [\n",
        "        {\"role\": \"system\", \"content\": \"You will answer questions like a chat system. If you do not understand a question and if it doesnt match any context that is given to you, simply tell the user that you cannot answer it.\"},\n",
        "        {\"role\": \"user\", \"content\": query + \" \" + context}\n",
        "    ],\n",
        "    model = \"gpt-3.5-turbo-0125\",\n",
        "    temperature = 0.0\n",
        ")\n",
        "\n",
        "# print(response.choices[0].message.content)"
      ],
      "metadata": {
        "id": "s0Vi5PgWNiPT"
      },
      "execution_count": 159,
      "outputs": []
    },
    {
      "cell_type": "code",
      "source": [
        "response.choices[0].message.content\n"
      ],
      "metadata": {
        "id": "2BIh1TOjRpRl",
        "colab": {
          "base_uri": "https://localhost:8080/",
          "height": 52
        },
        "outputId": "1ffb2c6d-1047-427d-ec88-9ab0090bd563"
      },
      "execution_count": 160,
      "outputs": [
        {
          "output_type": "execute_result",
          "data": {
            "text/plain": [
              "'Caravan Health is a company that partners with healthcare providers to help them transition to value-based care and improve patient outcomes. They offer solutions and support to help healthcare organizations succeed in accountable care and population health management.'"
            ],
            "application/vnd.google.colaboratory.intrinsic+json": {
              "type": "string"
            }
          },
          "metadata": {},
          "execution_count": 160
        }
      ]
    },
    {
      "cell_type": "markdown",
      "source": [
        "**How would I scale this RAG based LLM?**\n",
        "* I would use a cloud provider - Amazon\n",
        "* Move the entire codebase to Sagemaker and deploy my model\n",
        "* Create a vector database and store embeddings and their source (unique identifier) - vector DB: PineCone\n",
        "\n"
      ],
      "metadata": {
        "id": "5OKZ2rTW6COD"
      }
    }
  ],
  "metadata": {
    "kernelspec": {
      "display_name": "Python 3",
      "language": "python",
      "name": "python3"
    },
    "language_info": {
      "codemirror_mode": {
        "name": "ipython",
        "version": 3
      },
      "file_extension": ".py",
      "mimetype": "text/x-python",
      "name": "python",
      "nbconvert_exporter": "python",
      "pygments_lexer": "ipython3",
      "version": "3.11.7"
    },
    "colab": {
      "provenance": [],
      "collapsed_sections": [
        "luU2ySX_V4mo"
      ]
    }
  },
  "nbformat": 4,
  "nbformat_minor": 0
}