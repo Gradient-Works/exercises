{
 "cells": [
  {
   "cell_type": "code",
   "execution_count": 1,
   "id": "32b4fb60",
   "metadata": {},
   "outputs": [],
   "source": [
    "import numpy as np\n",
    "import pandas as pd\n",
    "from matplotlib import pyplot as plt"
   ]
  },
  {
   "cell_type": "code",
   "execution_count": 5,
   "id": "93a352f1",
   "metadata": {},
   "outputs": [],
   "source": [
    "df = pd.read_csv('../data/content.csv')"
   ]
  },
  {
   "cell_type": "markdown",
   "id": "25e5952c",
   "metadata": {},
   "source": [
    "# Tasks - Part 1"
   ]
  },
  {
   "cell_type": "markdown",
   "id": "30a8c8bb",
   "metadata": {},
   "source": [
    "Here are some questions that we'd like you to answer about the dataset:\n",
    "\n",
    "1. How many companies are in the dataset?\n",
    "2. How many unique URLs are in the dataset?\n",
    "3. What is the most common chunk type?\n",
    "4. What is the distribution of chunk types by company?"
   ]
  },
  {
   "cell_type": "markdown",
   "id": "4a9b154c",
   "metadata": {},
   "source": [
    "## 1. How many companies are in the dataset?"
   ]
  },
  {
   "cell_type": "code",
   "execution_count": 4,
   "id": "13945546",
   "metadata": {},
   "outputs": [
    {
     "data": {
      "text/plain": [
       "75"
      ]
     },
     "execution_count": 4,
     "metadata": {},
     "output_type": "execute_result"
    }
   ],
   "source": [
    "len(np.unique(df['company_id']))"
   ]
  },
  {
   "cell_type": "code",
   "execution_count": 5,
   "id": "d8870337",
   "metadata": {},
   "outputs": [
    {
     "data": {
      "text/plain": [
       "True"
      ]
     },
     "execution_count": 5,
     "metadata": {},
     "output_type": "execute_result"
    }
   ],
   "source": [
    "len(np.unique(df['company_id'])) == len(np.unique(df['company_name']))"
   ]
  },
  {
   "cell_type": "markdown",
   "id": "da4434ca",
   "metadata": {},
   "source": [
    "The dataset contains 75 unique companies. The columns `company_name` and `company_id` have a one-to-one correspondence, ensuring that there are no duplicate names in the `company_name` column, assuming company_id is unique."
   ]
  },
  {
   "cell_type": "markdown",
   "id": "f35dd734",
   "metadata": {},
   "source": [
    "## 2. How many unique URLs are in the dataset?"
   ]
  },
  {
   "cell_type": "code",
   "execution_count": 6,
   "id": "1d455aac",
   "metadata": {},
   "outputs": [
    {
     "data": {
      "text/plain": [
       "530"
      ]
     },
     "execution_count": 6,
     "metadata": {},
     "output_type": "execute_result"
    }
   ],
   "source": [
    "len(np.unique(df['url']))"
   ]
  },
  {
   "cell_type": "markdown",
   "id": "5cfa3e26",
   "metadata": {},
   "source": [
    "There are 530 unique urls in this dataset. Let's fetch the prefix urls for these companies and check if it matches with the unique company_id"
   ]
  },
  {
   "cell_type": "code",
   "execution_count": 7,
   "id": "022127a9",
   "metadata": {},
   "outputs": [],
   "source": [
    "prefix_url = [x.split('/')[0] + '//' + x.split('/')[2] for x in df['url']]"
   ]
  },
  {
   "cell_type": "code",
   "execution_count": 8,
   "id": "d7d237a4",
   "metadata": {},
   "outputs": [],
   "source": [
    "df['prefix_url'] = prefix_url"
   ]
  },
  {
   "cell_type": "code",
   "execution_count": 9,
   "id": "65408cba",
   "metadata": {},
   "outputs": [
    {
     "data": {
      "text/plain": [
       "77"
      ]
     },
     "execution_count": 9,
     "metadata": {},
     "output_type": "execute_result"
    }
   ],
   "source": [
    "len(np.unique(prefix_url))"
   ]
  },
  {
   "cell_type": "markdown",
   "id": "379500a6",
   "metadata": {},
   "source": [
    "2 company names seems to be repeated"
   ]
  },
  {
   "cell_type": "code",
   "execution_count": 10,
   "id": "66786ba5",
   "metadata": {},
   "outputs": [],
   "source": [
    "company_id = []\n",
    "uniq_url = []\n",
    "for x in range(len(df['prefix_url'])):\n",
    "    if df.iloc[x]['prefix_url'] not in uniq_url:\n",
    "        uniq_url.append(df.iloc[x]['prefix_url'])\n",
    "        company_id.append(df.iloc[x]['company_id'])"
   ]
  },
  {
   "cell_type": "code",
   "execution_count": 11,
   "id": "de8ff277",
   "metadata": {},
   "outputs": [
    {
     "data": {
      "text/plain": [
       "True"
      ]
     },
     "execution_count": 11,
     "metadata": {},
     "output_type": "execute_result"
    }
   ],
   "source": [
    "len(company_id) == len(uniq_url)"
   ]
  },
  {
   "cell_type": "code",
   "execution_count": 12,
   "id": "c5466bbc",
   "metadata": {},
   "outputs": [],
   "source": [
    "temp_df = pd.DataFrame({'company_id_unique': company_id, 'unique_url': uniq_url})"
   ]
  },
  {
   "cell_type": "code",
   "execution_count": 13,
   "id": "cb5893e2",
   "metadata": {},
   "outputs": [],
   "source": [
    "duplicate_df = temp_df[temp_df.duplicated(subset=['company_id_unique'])]"
   ]
  },
  {
   "cell_type": "code",
   "execution_count": 14,
   "id": "f3c9d280",
   "metadata": {},
   "outputs": [
    {
     "data": {
      "text/html": [
       "<div>\n",
       "<style scoped>\n",
       "    .dataframe tbody tr th:only-of-type {\n",
       "        vertical-align: middle;\n",
       "    }\n",
       "\n",
       "    .dataframe tbody tr th {\n",
       "        vertical-align: top;\n",
       "    }\n",
       "\n",
       "    .dataframe thead th {\n",
       "        text-align: right;\n",
       "    }\n",
       "</style>\n",
       "<table border=\"1\" class=\"dataframe\">\n",
       "  <thead>\n",
       "    <tr style=\"text-align: right;\">\n",
       "      <th></th>\n",
       "      <th>company_id_unique</th>\n",
       "      <th>unique_url</th>\n",
       "    </tr>\n",
       "  </thead>\n",
       "  <tbody>\n",
       "    <tr>\n",
       "      <th>4</th>\n",
       "      <td>a45e4bd7-0ea7-4c3f-ba6a-cdc5027f6c60</td>\n",
       "      <td>https://www.bingotech.net</td>\n",
       "    </tr>\n",
       "    <tr>\n",
       "      <th>54</th>\n",
       "      <td>a0dffac7-5b73-47bb-8a31-78440a1aef33</td>\n",
       "      <td>https://4wheeltravels.com</td>\n",
       "    </tr>\n",
       "    <tr>\n",
       "      <th>56</th>\n",
       "      <td>a45e4bd7-0ea7-4c3f-ba6a-cdc5027f6c60</td>\n",
       "      <td>https://bingotech.net</td>\n",
       "    </tr>\n",
       "    <tr>\n",
       "      <th>57</th>\n",
       "      <td>a0dffac7-5b73-47bb-8a31-78440a1aef33</td>\n",
       "      <td>https://sg2plcpnl0188.prod.sin2.secureserver.n...</td>\n",
       "    </tr>\n",
       "  </tbody>\n",
       "</table>\n",
       "</div>"
      ],
      "text/plain": [
       "                       company_id_unique  \\\n",
       "4   a45e4bd7-0ea7-4c3f-ba6a-cdc5027f6c60   \n",
       "54  a0dffac7-5b73-47bb-8a31-78440a1aef33   \n",
       "56  a45e4bd7-0ea7-4c3f-ba6a-cdc5027f6c60   \n",
       "57  a0dffac7-5b73-47bb-8a31-78440a1aef33   \n",
       "\n",
       "                                           unique_url  \n",
       "4                           https://www.bingotech.net  \n",
       "54                          https://4wheeltravels.com  \n",
       "56                              https://bingotech.net  \n",
       "57  https://sg2plcpnl0188.prod.sin2.secureserver.n...  "
      ]
     },
     "execution_count": 14,
     "metadata": {},
     "output_type": "execute_result"
    }
   ],
   "source": [
    "temp_df[temp_df['company_id_unique'].isin(duplicate_df['company_id_unique'])]"
   ]
  },
  {
   "cell_type": "markdown",
   "id": "8ea31d37",
   "metadata": {},
   "source": [
    "Bingotech duplicate domain names: https://www.bingotech.net and https://bingotech.net <br>\n",
    "4wheeltravels duplicate domain names: https://4wheeltravels.com and https://sg2plcpnl0188.prod.sin2.secureserver.n..."
   ]
  },
  {
   "cell_type": "markdown",
   "id": "ea2849b5",
   "metadata": {},
   "source": [
    "## 3. What is the most common chunk type?"
   ]
  },
  {
   "cell_type": "code",
   "execution_count": 15,
   "id": "5a26687d",
   "metadata": {},
   "outputs": [
    {
     "data": {
      "text/plain": [
       "chunk_type\n",
       "header    549\n",
       "main      545\n",
       "head      530\n",
       "footer    504\n",
       "Name: count, dtype: int64"
      ]
     },
     "execution_count": 15,
     "metadata": {},
     "output_type": "execute_result"
    }
   ],
   "source": [
    "df['chunk_type'].value_counts()"
   ]
  },
  {
   "cell_type": "code",
   "execution_count": 16,
   "id": "75f39608",
   "metadata": {},
   "outputs": [
    {
     "data": {
      "image/png": "[encoded data removed]",
      "text/plain": [
       "<Figure size 640x480 with 1 Axes>"
      ]
     },
     "metadata": {},
     "output_type": "display_data"
    }
   ],
   "source": [
    "counts = df['chunk_type'].value_counts()\n",
    "plt.bar(counts.index, counts.values) \n",
    "plt.show()"
   ]
  },
  {
   "cell_type": "markdown",
   "id": "a92308fc",
   "metadata": {},
   "source": [
    "**Header** is the most common chunk type."
   ]
  },
  {
   "cell_type": "markdown",
   "id": "08a0614f",
   "metadata": {},
   "source": [
    "## 4. What is the distribution of chunk types by company?"
   ]
  },
  {
   "cell_type": "code",
   "execution_count": 17,
   "id": "9cd5724a",
   "metadata": {},
   "outputs": [],
   "source": [
    "chunk_type_distribution = df.groupby('company_id')['chunk_type'].value_counts()"
   ]
  },
  {
   "cell_type": "code",
   "execution_count": 18,
   "id": "3dfbc7ce",
   "metadata": {},
   "outputs": [
    {
     "data": {
      "text/html": [
       "<div>\n",
       "<style scoped>\n",
       "    .dataframe tbody tr th:only-of-type {\n",
       "        vertical-align: middle;\n",
       "    }\n",
       "\n",
       "    .dataframe tbody tr th {\n",
       "        vertical-align: top;\n",
       "    }\n",
       "\n",
       "    .dataframe thead th {\n",
       "        text-align: right;\n",
       "    }\n",
       "</style>\n",
       "<table border=\"1\" class=\"dataframe\">\n",
       "  <thead>\n",
       "    <tr style=\"text-align: right;\">\n",
       "      <th></th>\n",
       "      <th></th>\n",
       "      <th>count</th>\n",
       "    </tr>\n",
       "    <tr>\n",
       "      <th>company_id</th>\n",
       "      <th>chunk_type</th>\n",
       "      <th></th>\n",
       "    </tr>\n",
       "  </thead>\n",
       "  <tbody>\n",
       "    <tr>\n",
       "      <th rowspan=\"4\" valign=\"top\">041e9ac4-d7eb-499f-8cfb-fa95dca20cd5</th>\n",
       "      <th>footer</th>\n",
       "      <td>11</td>\n",
       "    </tr>\n",
       "    <tr>\n",
       "      <th>head</th>\n",
       "      <td>11</td>\n",
       "    </tr>\n",
       "    <tr>\n",
       "      <th>header</th>\n",
       "      <td>11</td>\n",
       "    </tr>\n",
       "    <tr>\n",
       "      <th>main</th>\n",
       "      <td>11</td>\n",
       "    </tr>\n",
       "    <tr>\n",
       "      <th>057293c5-03c8-427d-9c78-d7cfee35e525</th>\n",
       "      <th>footer</th>\n",
       "      <td>9</td>\n",
       "    </tr>\n",
       "    <tr>\n",
       "      <th>...</th>\n",
       "      <th>...</th>\n",
       "      <td>...</td>\n",
       "    </tr>\n",
       "    <tr>\n",
       "      <th>f7958fe2-7f18-4da1-be80-1b6ebd68e427</th>\n",
       "      <th>main</th>\n",
       "      <td>1</td>\n",
       "    </tr>\n",
       "    <tr>\n",
       "      <th rowspan=\"4\" valign=\"top\">f9d892e2-ded2-4ac3-bf2d-bc65c5c58131</th>\n",
       "      <th>footer</th>\n",
       "      <td>11</td>\n",
       "    </tr>\n",
       "    <tr>\n",
       "      <th>head</th>\n",
       "      <td>11</td>\n",
       "    </tr>\n",
       "    <tr>\n",
       "      <th>header</th>\n",
       "      <td>11</td>\n",
       "    </tr>\n",
       "    <tr>\n",
       "      <th>main</th>\n",
       "      <td>11</td>\n",
       "    </tr>\n",
       "  </tbody>\n",
       "</table>\n",
       "<p>268 rows × 1 columns</p>\n",
       "</div>"
      ],
      "text/plain": [
       "                                                 count\n",
       "company_id                           chunk_type       \n",
       "041e9ac4-d7eb-499f-8cfb-fa95dca20cd5 footer         11\n",
       "                                     head           11\n",
       "                                     header         11\n",
       "                                     main           11\n",
       "057293c5-03c8-427d-9c78-d7cfee35e525 footer          9\n",
       "...                                                ...\n",
       "f7958fe2-7f18-4da1-be80-1b6ebd68e427 main            1\n",
       "f9d892e2-ded2-4ac3-bf2d-bc65c5c58131 footer         11\n",
       "                                     head           11\n",
       "                                     header         11\n",
       "                                     main           11\n",
       "\n",
       "[268 rows x 1 columns]"
      ]
     },
     "execution_count": 18,
     "metadata": {},
     "output_type": "execute_result"
    }
   ],
   "source": [
    "pd.DataFrame(chunk_type_distribution)"
   ]
  },
  {
   "cell_type": "code",
   "execution_count": 19,
   "id": "558c6f6c",
   "metadata": {},
   "outputs": [],
   "source": [
    "def create_company_dict(group):\n",
    "    chunk_type_counts = group['chunk_type'].value_counts().to_dict()\n",
    "    return {chunk_type: count for chunk_type, count in chunk_type_counts.items()}\n",
    "\n",
    "chunk_type_distribution_dict = {company_id: create_company_dict(group) for company_id, group in df.groupby('company_id')}"
   ]
  },
  {
   "cell_type": "code",
   "execution_count": 20,
   "id": "9a4a4013",
   "metadata": {},
   "outputs": [
    {
     "data": {
      "text/plain": [
       "{'041e9ac4-d7eb-499f-8cfb-fa95dca20cd5': {'head': 11,\n",
       "  'header': 11,\n",
       "  'footer': 11,\n",
       "  'main': 11},\n",
       " '057293c5-03c8-427d-9c78-d7cfee35e525': {'head': 9,\n",
       "  'header': 9,\n",
       "  'footer': 9,\n",
       "  'main': 9},\n",
       " '0a2dd621-fc29-4d92-92af-a9f27d36b88a': {'main': 12,\n",
       "  'header': 11,\n",
       "  'footer': 11,\n",
       "  'head': 11},\n",
       " '1a944f93-a2ac-4352-9b65-a39c7addcb36': {'head': 11,\n",
       "  'header': 11,\n",
       "  'footer': 11,\n",
       "  'main': 11},\n",
       " '1b7e4fac-5467-4773-a330-e9ef080aa00a': {'main': 12,\n",
       "  'head': 11,\n",
       "  'footer': 11,\n",
       "  'header': 5},\n",
       " '1b9af211-c118-45dc-a7a9-c36acd5c3606': {'head': 10,\n",
       "  'header': 10,\n",
       "  'footer': 10,\n",
       "  'main': 10},\n",
       " '1c454ddb-4be8-4c6a-922e-45c877efa542': {'main': 17,\n",
       "  'head': 11,\n",
       "  'header': 11,\n",
       "  'footer': 11},\n",
       " '1ccb0060-ed06-40d9-affd-b94b7e5041a1': {'head': 1, 'main': 1},\n",
       " '1d793954-ad6e-4d64-84d6-965b6d7e6e28': {'header': 22,\n",
       "  'head': 11,\n",
       "  'footer': 11,\n",
       "  'main': 11},\n",
       " '1fd25493-2b64-4e45-9286-496d1a2899c1': {'header': 23,\n",
       "  'main': 11,\n",
       "  'footer': 10,\n",
       "  'head': 10},\n",
       " '21a77c0a-0dae-4d9d-8f16-722c4cb80fa4': {'main': 11,\n",
       "  'head': 9,\n",
       "  'header': 9,\n",
       "  'footer': 9},\n",
       " '2312afd0-a0b4-41f2-a3f5-20fcaae1cf1d': {'head': 4,\n",
       "  'header': 4,\n",
       "  'footer': 4,\n",
       "  'main': 4},\n",
       " '234793b5-f217-4692-bad8-6ac7210c4d99': {'head': 1, 'header': 1, 'main': 1},\n",
       " '2445ce14-bb54-4765-89bf-1f828686cb16': {'main': 7,\n",
       "  'head': 1,\n",
       "  'header': 1,\n",
       "  'footer': 1},\n",
       " '2646717c-561c-4a07-981c-04d60ae26c5d': {'head': 1, 'main': 1},\n",
       " '27587b6e-5ba1-4c57-96f4-7fc16abac658': {'header': 7, 'head': 5, 'footer': 5},\n",
       " '2abc40ce-3099-44fc-b5cd-a4abc80ad196': {'head': 11,\n",
       "  'header': 11,\n",
       "  'main': 11,\n",
       "  'footer': 10},\n",
       " '2b6f6bd0-fb3b-40b1-8728-6ee500e861a7': {'main': 12,\n",
       "  'head': 11,\n",
       "  'header': 11,\n",
       "  'footer': 11},\n",
       " '311dffd7-84bc-4cb6-8bb9-0a87e2ebe0b6': {'head': 6, 'footer': 6, 'main': 6},\n",
       " '33203cd4-b2f7-4a60-a949-b53c844f1288': {'head': 1, 'main': 1},\n",
       " '350207ab-6df5-4624-9e11-1422ffd3d6e7': {'head': 2,\n",
       "  'footer': 2,\n",
       "  'main': 2,\n",
       "  'header': 1},\n",
       " '38ac3499-f153-42f5-a07e-ff286bb3058e': {'head': 1, 'main': 1},\n",
       " '3f2be1af-115e-49fd-981c-523d7281c78e': {'header': 2,\n",
       "  'head': 1,\n",
       "  'footer': 1,\n",
       "  'main': 1},\n",
       " '47a9fbaa-0c12-442e-b030-78d3ee7b15d3': {'main': 15,\n",
       "  'head': 11,\n",
       "  'header': 11,\n",
       "  'footer': 11},\n",
       " '4c1fde18-8a40-4ee7-9c3c-19152c7d1ff8': {'main': 17,\n",
       "  'head': 11,\n",
       "  'header': 11,\n",
       "  'footer': 11},\n",
       " '4df58b56-4c19-4602-bdcc-a0f9bc0c1c81': {'main': 12,\n",
       "  'head': 11,\n",
       "  'header': 11,\n",
       "  'footer': 11},\n",
       " '4e8e3cf3-79fb-4251-a2e9-970c1ee97068': {'main': 14,\n",
       "  'head': 11,\n",
       "  'header': 11,\n",
       "  'footer': 10},\n",
       " '4faddb9c-68bf-4bbe-b471-07d9b07fb7fe': {'head': 10,\n",
       "  'header': 10,\n",
       "  'main': 10,\n",
       "  'footer': 9},\n",
       " '506068b9-0b01-4853-b981-850fc0300d34': {'head': 1, 'main': 1},\n",
       " '54481572-095b-4314-a99c-54c8d7cb3058': {'head': 10,\n",
       "  'main': 10,\n",
       "  'header': 8,\n",
       "  'footer': 6},\n",
       " '550e7ff3-6393-42f8-92c7-cb273f022445': {'main': 8,\n",
       "  'head': 6,\n",
       "  'header': 6,\n",
       "  'footer': 6},\n",
       " '5a767574-556b-439a-b1d8-89334fbdbaad': {'head': 9, 'header': 9, 'footer': 9},\n",
       " '5c3a39f0-c5d6-4a24-85c3-0684b1228dce': {'head': 1,\n",
       "  'header': 1,\n",
       "  'footer': 1,\n",
       "  'main': 1},\n",
       " '5d23c4f4-1e1d-459b-847d-ea05d6f10056': {'header': 22,\n",
       "  'head': 11,\n",
       "  'footer': 11,\n",
       "  'main': 11},\n",
       " '649eac25-762d-4b81-98d2-e3a9a481c4ac': {'head': 10,\n",
       "  'header': 10,\n",
       "  'footer': 10,\n",
       "  'main': 10},\n",
       " '65cb7019-5546-4adf-8294-f03e5c35bf4d': {'head': 1,\n",
       "  'header': 1,\n",
       "  'footer': 1,\n",
       "  'main': 1},\n",
       " '66d2d1bc-73f9-4df4-855d-12330a2cde05': {'main': 17,\n",
       "  'head': 11,\n",
       "  'header': 11,\n",
       "  'footer': 11},\n",
       " '69cdaf4f-298d-42db-abef-36c040489a58': {'head': 11,\n",
       "  'header': 11,\n",
       "  'footer': 11,\n",
       "  'main': 11},\n",
       " '6f1491c1-aff5-45cf-98aa-2e07c9394f78': {'head': 11,\n",
       "  'footer': 11,\n",
       "  'main': 11,\n",
       "  'header': 10},\n",
       " '7227bcbe-e8b6-4285-8c73-4c9375d9df83': {'head': 7,\n",
       "  'header': 7,\n",
       "  'footer': 7,\n",
       "  'main': 7},\n",
       " '75c123ba-2e0a-4d3f-a7ec-f737c5f61c2e': {'head': 1, 'main': 1},\n",
       " '77713668-9b82-4038-ac33-0b1a3c4d4715': {'main': 18,\n",
       "  'head': 10,\n",
       "  'header': 10,\n",
       "  'footer': 10},\n",
       " '784ba666-e00d-459e-9417-66f8a59f84ec': {'head': 11, 'main': 11},\n",
       " '7af13eb6-125a-4e01-974b-712ea1a9dea7': {'head': 4,\n",
       "  'header': 4,\n",
       "  'footer': 4,\n",
       "  'main': 4},\n",
       " '84210586-05e5-4324-9c12-2883697d9937': {'head': 1, 'main': 1},\n",
       " '8beba93c-0fd6-460b-a531-b8475bbbe6e8': {'head': 11,\n",
       "  'header': 11,\n",
       "  'footer': 11,\n",
       "  'main': 11},\n",
       " '8db9b2e5-d6e6-4d29-ba56-347bb8507b08': {'head': 1, 'main': 1},\n",
       " '9bf1ccd3-dd15-4fc2-8ee9-1c3ab1cc7a94': {'header': 10,\n",
       "  'head': 5,\n",
       "  'footer': 5},\n",
       " '9c539408-9119-4540-8a04-68a0dc259d2d': {'head': 1,\n",
       "  'header': 1,\n",
       "  'footer': 1,\n",
       "  'main': 1},\n",
       " '9c8bf109-c7f6-4db4-ac5b-15838f692628': {'header': 18,\n",
       "  'head': 9,\n",
       "  'footer': 9,\n",
       "  'main': 9},\n",
       " 'a07fb185-9f97-498c-bcda-a4c21fe27467': {'main': 13,\n",
       "  'header': 10,\n",
       "  'footer': 10,\n",
       "  'head': 10},\n",
       " 'a0dffac7-5b73-47bb-8a31-78440a1aef33': {'head': 2, 'main': 2},\n",
       " 'a45e4bd7-0ea7-4c3f-ba6a-cdc5027f6c60': {'head': 2,\n",
       "  'footer': 2,\n",
       "  'main': 2,\n",
       "  'header': 1},\n",
       " 'aab2261b-7065-460d-83de-99404fb50f65': {'main': 13,\n",
       "  'head': 11,\n",
       "  'header': 11,\n",
       "  'footer': 11},\n",
       " 'acab4569-6d20-4f45-a649-501d998e96fd': {'head': 11,\n",
       "  'main': 11,\n",
       "  'header': 10,\n",
       "  'footer': 10},\n",
       " 'ae11f430-4c8f-4d77-bb02-c2f1c392bd6d': {'head': 1,\n",
       "  'header': 1,\n",
       "  'footer': 1,\n",
       "  'main': 1},\n",
       " 'b244f8a0-cdee-42a4-988f-8d431d4d0794': {'head': 1, 'main': 1},\n",
       " 'b2a1f0aa-0578-4d89-8be1-56d86414a1b4': {'header': 22,\n",
       "  'head': 11,\n",
       "  'footer': 11,\n",
       "  'main': 11},\n",
       " 'b34a4aec-a2ab-46ca-abca-85b07e6646b2': {'head': 11,\n",
       "  'header': 11,\n",
       "  'footer': 11,\n",
       "  'main': 11},\n",
       " 'b598d098-e179-4355-873b-a0119f658b24': {'head': 6,\n",
       "  'header': 6,\n",
       "  'footer': 6,\n",
       "  'main': 6},\n",
       " 'ba955d6d-d1bd-4e92-834f-c45f820679b6': {'head': 5,\n",
       "  'header': 5,\n",
       "  'footer': 5,\n",
       "  'main': 5},\n",
       " 'bb0eef13-1271-4f12-992f-209aab01bac3': {'head': 6,\n",
       "  'header': 6,\n",
       "  'footer': 6,\n",
       "  'main': 6},\n",
       " 'c4ef42c5-511c-4991-bce9-e04c739cbd22': {'head': 11,\n",
       "  'header': 11,\n",
       "  'footer': 11,\n",
       "  'main': 11},\n",
       " 'c7d9376d-9eff-4ab0-8e35-230697588b93': {'head': 4,\n",
       "  'main': 4,\n",
       "  'header': 2,\n",
       "  'footer': 2},\n",
       " 'c84b92cc-28a5-4383-845d-237926a5f120': {'head': 11,\n",
       "  'header': 11,\n",
       "  'footer': 11,\n",
       "  'main': 11},\n",
       " 'cd17faf2-60f5-4a27-b727-9d9337610077': {'head': 11,\n",
       "  'header': 11,\n",
       "  'main': 11,\n",
       "  'footer': 10},\n",
       " 'cd931e32-04fd-4265-8b9f-99943dbd77f4': {'header': 19,\n",
       "  'head': 10,\n",
       "  'footer': 10,\n",
       "  'main': 1},\n",
       " 'd09d7050-14d4-4bee-b7bc-709a046fa5c0': {'head': 11,\n",
       "  'header': 11,\n",
       "  'footer': 11,\n",
       "  'main': 11},\n",
       " 'd90cd817-7db0-4394-a5ef-65df2bd96487': {'head': 5,\n",
       "  'header': 5,\n",
       "  'footer': 5,\n",
       "  'main': 5},\n",
       " 'ed5f1cb6-6ab1-4b61-9412-5c23e6f02cf0': {'head': 11,\n",
       "  'header': 11,\n",
       "  'footer': 11,\n",
       "  'main': 11},\n",
       " 'edda975d-a01c-4e93-8245-68183fb19ced': {'head': 10,\n",
       "  'header': 10,\n",
       "  'footer': 10},\n",
       " 'f3004596-8695-4808-8c54-d80cb63c98d0': {'head': 1, 'main': 1},\n",
       " 'f5b2f14b-1186-4f74-aa14-86ec73da913f': {'footer': 18, 'head': 9, 'main': 9},\n",
       " 'f7958fe2-7f18-4da1-be80-1b6ebd68e427': {'head': 1, 'footer': 1, 'main': 1},\n",
       " 'f9d892e2-ded2-4ac3-bf2d-bc65c5c58131': {'head': 11,\n",
       "  'header': 11,\n",
       "  'footer': 11,\n",
       "  'main': 11}}"
      ]
     },
     "execution_count": 20,
     "metadata": {},
     "output_type": "execute_result"
    }
   ],
   "source": [
    "chunk_type_distribution_dict"
   ]
  },
  {
   "cell_type": "markdown",
   "id": "2ff34159",
   "metadata": {},
   "source": [
    "## General Analysis"
   ]
  },
  {
   "cell_type": "markdown",
   "id": "7816b4c8",
   "metadata": {},
   "source": [
    "### Analyzing chunk_id\n"
   ]
  },
  {
   "cell_type": "code",
   "execution_count": 21,
   "id": "c9c57042",
   "metadata": {},
   "outputs": [
    {
     "data": {
      "text/plain": [
       "2128"
      ]
     },
     "execution_count": 21,
     "metadata": {},
     "output_type": "execute_result"
    }
   ],
   "source": [
    "len(np.unique(df['chunk_id']))"
   ]
  },
  {
   "cell_type": "markdown",
   "id": "897874aa",
   "metadata": {},
   "source": [
    "All the elements in the `chunk_id` are unique. This can be used as the primary key for indexing/lookup."
   ]
  },
  {
   "cell_type": "markdown",
   "id": "3d0b8ffb",
   "metadata": {},
   "source": [
    "### Analyzing chunk_hash\n"
   ]
  },
  {
   "cell_type": "code",
   "execution_count": 22,
   "id": "e8233ca8",
   "metadata": {},
   "outputs": [
    {
     "data": {
      "text/plain": [
       "1337"
      ]
     },
     "execution_count": 22,
     "metadata": {},
     "output_type": "execute_result"
    }
   ],
   "source": [
    "len(np.unique(df['chunk_hash']))"
   ]
  },
  {
   "cell_type": "code",
   "execution_count": 23,
   "id": "e938bcd0",
   "metadata": {},
   "outputs": [
    {
     "data": {
      "text/html": [
       "<div>\n",
       "<style scoped>\n",
       "    .dataframe tbody tr th:only-of-type {\n",
       "        vertical-align: middle;\n",
       "    }\n",
       "\n",
       "    .dataframe tbody tr th {\n",
       "        vertical-align: top;\n",
       "    }\n",
       "\n",
       "    .dataframe thead th {\n",
       "        text-align: right;\n",
       "    }\n",
       "</style>\n",
       "<table border=\"1\" class=\"dataframe\">\n",
       "  <thead>\n",
       "    <tr style=\"text-align: right;\">\n",
       "      <th></th>\n",
       "      <th>company_id</th>\n",
       "      <th>company_name</th>\n",
       "      <th>url</th>\n",
       "      <th>chunk_type</th>\n",
       "      <th>chunk_hash</th>\n",
       "      <th>chunk</th>\n",
       "      <th>chunk_id</th>\n",
       "      <th>prefix_url</th>\n",
       "    </tr>\n",
       "  </thead>\n",
       "  <tbody>\n",
       "    <tr>\n",
       "      <th>60</th>\n",
       "      <td>aab2261b-7065-460d-83de-99404fb50f65</td>\n",
       "      <td>betahaus Sofia</td>\n",
       "      <td>https://betahaus.bg/blog</td>\n",
       "      <td>footer</td>\n",
       "      <td>2f75ead3d8821183e12c322c1800afe60a175572ca3b3a...</td>\n",
       "      <td>&lt;footer class=\"footer\"&gt;&lt;h4&gt;Връзка с нас&lt;/h4&gt;ул...</td>\n",
       "      <td>af3a36a1-fb5a-44b1-b5ae-9b040ca5889c</td>\n",
       "      <td>https://betahaus.bg</td>\n",
       "    </tr>\n",
       "    <tr>\n",
       "      <th>63</th>\n",
       "      <td>21a77c0a-0dae-4d9d-8f16-722c4cb80fa4</td>\n",
       "      <td>The Best Bees Company</td>\n",
       "      <td>https://bestbees.com/blog/</td>\n",
       "      <td>header</td>\n",
       "      <td>2a1407969dc3931af069563f58b3ec89bfa300ac6c4b1f...</td>\n",
       "      <td>&lt;header class=\"fl-builder-content fl-builder-c...</td>\n",
       "      <td>293eeafb-09f9-4611-8d37-0e5f07dae564</td>\n",
       "      <td>https://bestbees.com</td>\n",
       "    </tr>\n",
       "    <tr>\n",
       "      <th>64</th>\n",
       "      <td>21a77c0a-0dae-4d9d-8f16-722c4cb80fa4</td>\n",
       "      <td>The Best Bees Company</td>\n",
       "      <td>https://bestbees.com/blog/</td>\n",
       "      <td>footer</td>\n",
       "      <td>c04c6008e00dc3e53fdea0d3f8db942f8aff0bff155c17...</td>\n",
       "      <td>&lt;footer class=\"fl-builder-content fl-builder-c...</td>\n",
       "      <td>fe49b6bb-9a6d-4c3a-8b23-40c8071e3cd4</td>\n",
       "      <td>https://bestbees.com</td>\n",
       "    </tr>\n",
       "    <tr>\n",
       "      <th>87</th>\n",
       "      <td>21a77c0a-0dae-4d9d-8f16-722c4cb80fa4</td>\n",
       "      <td>The Best Bees Company</td>\n",
       "      <td>https://bestbees.com/get-started/</td>\n",
       "      <td>header</td>\n",
       "      <td>2a1407969dc3931af069563f58b3ec89bfa300ac6c4b1f...</td>\n",
       "      <td>&lt;header class=\"fl-builder-content fl-builder-c...</td>\n",
       "      <td>a6851616-8a65-4409-9a63-66a6eb2153cc</td>\n",
       "      <td>https://bestbees.com</td>\n",
       "    </tr>\n",
       "    <tr>\n",
       "      <th>88</th>\n",
       "      <td>21a77c0a-0dae-4d9d-8f16-722c4cb80fa4</td>\n",
       "      <td>The Best Bees Company</td>\n",
       "      <td>https://bestbees.com/get-started/</td>\n",
       "      <td>footer</td>\n",
       "      <td>c04c6008e00dc3e53fdea0d3f8db942f8aff0bff155c17...</td>\n",
       "      <td>&lt;footer class=\"fl-builder-content fl-builder-c...</td>\n",
       "      <td>271d5729-d600-47f6-87e2-5b7aa065f712</td>\n",
       "      <td>https://bestbees.com</td>\n",
       "    </tr>\n",
       "    <tr>\n",
       "      <th>...</th>\n",
       "      <td>...</td>\n",
       "      <td>...</td>\n",
       "      <td>...</td>\n",
       "      <td>...</td>\n",
       "      <td>...</td>\n",
       "      <td>...</td>\n",
       "      <td>...</td>\n",
       "      <td>...</td>\n",
       "    </tr>\n",
       "    <tr>\n",
       "      <th>2111</th>\n",
       "      <td>1fd25493-2b64-4e45-9286-496d1a2899c1</td>\n",
       "      <td>American Express Travel</td>\n",
       "      <td>https://www.americanexpress.com/en-us/support/...</td>\n",
       "      <td>header</td>\n",
       "      <td>994f9b66932ae87ff338704924562cf913f73c0f49ae26...</td>\n",
       "      <td>&lt;ul&gt;&lt;li&gt;&lt;a href=\"https://www.americanexpress.c...</td>\n",
       "      <td>ace4dac1-4401-4b5b-b61a-4b922d3a8362</td>\n",
       "      <td>https://www.americanexpress.com</td>\n",
       "    </tr>\n",
       "    <tr>\n",
       "      <th>2112</th>\n",
       "      <td>1fd25493-2b64-4e45-9286-496d1a2899c1</td>\n",
       "      <td>American Express Travel</td>\n",
       "      <td>https://www.americanexpress.com/en-us/support/...</td>\n",
       "      <td>footer</td>\n",
       "      <td>7d4855c2c301923efef11a825dca16e1c6791d6cec96dc...</td>\n",
       "      <td>&lt;footer class=\"axp-footer__footer__footer___32...</td>\n",
       "      <td>4ea2b388-7505-4e20-b57e-75eaddb4d242</td>\n",
       "      <td>https://www.americanexpress.com</td>\n",
       "    </tr>\n",
       "    <tr>\n",
       "      <th>2120</th>\n",
       "      <td>0a2dd621-fc29-4d92-92af-a9f27d36b88a</td>\n",
       "      <td>Mobile Programming LLC.</td>\n",
       "      <td>https://www.mobileprogramming.com/</td>\n",
       "      <td>head</td>\n",
       "      <td>023ecc39b08c78b255f966b4e7768ab00f491469e096f0...</td>\n",
       "      <td>&lt;head&gt;&lt;title&gt;App Design &amp;amp; Development | Mo...</td>\n",
       "      <td>07c06cb2-1d10-46ac-84e3-b0eaa0279fb2</td>\n",
       "      <td>https://www.mobileprogramming.com</td>\n",
       "    </tr>\n",
       "    <tr>\n",
       "      <th>2121</th>\n",
       "      <td>0a2dd621-fc29-4d92-92af-a9f27d36b88a</td>\n",
       "      <td>Mobile Programming LLC.</td>\n",
       "      <td>https://www.mobileprogramming.com/</td>\n",
       "      <td>header</td>\n",
       "      <td>4e4d70173788abe5d7e7004f590d78dd9911e775c91aa4...</td>\n",
       "      <td>&lt;header class=\"top-header\" id=\"myHeader\"&gt;&lt;nav&gt;...</td>\n",
       "      <td>b9015037-7ef1-4bb1-8607-f63fefb06226</td>\n",
       "      <td>https://www.mobileprogramming.com</td>\n",
       "    </tr>\n",
       "    <tr>\n",
       "      <th>2122</th>\n",
       "      <td>0a2dd621-fc29-4d92-92af-a9f27d36b88a</td>\n",
       "      <td>Mobile Programming LLC.</td>\n",
       "      <td>https://www.mobileprogramming.com/</td>\n",
       "      <td>footer</td>\n",
       "      <td>f40bd3fed28b7926b308ed7e43d0c489df78b5813c5945...</td>\n",
       "      <td>&lt;footer class=\"container-fluid pd-0 footer-bg\"...</td>\n",
       "      <td>6afb8c04-87cc-45d7-a7f4-c11df0d88d54</td>\n",
       "      <td>https://www.mobileprogramming.com</td>\n",
       "    </tr>\n",
       "  </tbody>\n",
       "</table>\n",
       "<p>791 rows × 8 columns</p>\n",
       "</div>"
      ],
      "text/plain": [
       "                                company_id             company_name  \\\n",
       "60    aab2261b-7065-460d-83de-99404fb50f65           betahaus Sofia   \n",
       "63    21a77c0a-0dae-4d9d-8f16-722c4cb80fa4    The Best Bees Company   \n",
       "64    21a77c0a-0dae-4d9d-8f16-722c4cb80fa4    The Best Bees Company   \n",
       "87    21a77c0a-0dae-4d9d-8f16-722c4cb80fa4    The Best Bees Company   \n",
       "88    21a77c0a-0dae-4d9d-8f16-722c4cb80fa4    The Best Bees Company   \n",
       "...                                    ...                      ...   \n",
       "2111  1fd25493-2b64-4e45-9286-496d1a2899c1  American Express Travel   \n",
       "2112  1fd25493-2b64-4e45-9286-496d1a2899c1  American Express Travel   \n",
       "2120  0a2dd621-fc29-4d92-92af-a9f27d36b88a  Mobile Programming LLC.   \n",
       "2121  0a2dd621-fc29-4d92-92af-a9f27d36b88a  Mobile Programming LLC.   \n",
       "2122  0a2dd621-fc29-4d92-92af-a9f27d36b88a  Mobile Programming LLC.   \n",
       "\n",
       "                                                    url chunk_type  \\\n",
       "60                             https://betahaus.bg/blog     footer   \n",
       "63                           https://bestbees.com/blog/     header   \n",
       "64                           https://bestbees.com/blog/     footer   \n",
       "87                    https://bestbees.com/get-started/     header   \n",
       "88                    https://bestbees.com/get-started/     footer   \n",
       "...                                                 ...        ...   \n",
       "2111  https://www.americanexpress.com/en-us/support/...     header   \n",
       "2112  https://www.americanexpress.com/en-us/support/...     footer   \n",
       "2120                 https://www.mobileprogramming.com/       head   \n",
       "2121                 https://www.mobileprogramming.com/     header   \n",
       "2122                 https://www.mobileprogramming.com/     footer   \n",
       "\n",
       "                                             chunk_hash  \\\n",
       "60    2f75ead3d8821183e12c322c1800afe60a175572ca3b3a...   \n",
       "63    2a1407969dc3931af069563f58b3ec89bfa300ac6c4b1f...   \n",
       "64    c04c6008e00dc3e53fdea0d3f8db942f8aff0bff155c17...   \n",
       "87    2a1407969dc3931af069563f58b3ec89bfa300ac6c4b1f...   \n",
       "88    c04c6008e00dc3e53fdea0d3f8db942f8aff0bff155c17...   \n",
       "...                                                 ...   \n",
       "2111  994f9b66932ae87ff338704924562cf913f73c0f49ae26...   \n",
       "2112  7d4855c2c301923efef11a825dca16e1c6791d6cec96dc...   \n",
       "2120  023ecc39b08c78b255f966b4e7768ab00f491469e096f0...   \n",
       "2121  4e4d70173788abe5d7e7004f590d78dd9911e775c91aa4...   \n",
       "2122  f40bd3fed28b7926b308ed7e43d0c489df78b5813c5945...   \n",
       "\n",
       "                                                  chunk  \\\n",
       "60    <footer class=\"footer\"><h4>Връзка с нас</h4>ул...   \n",
       "63    <header class=\"fl-builder-content fl-builder-c...   \n",
       "64    <footer class=\"fl-builder-content fl-builder-c...   \n",
       "87    <header class=\"fl-builder-content fl-builder-c...   \n",
       "88    <footer class=\"fl-builder-content fl-builder-c...   \n",
       "...                                                 ...   \n",
       "2111  <ul><li><a href=\"https://www.americanexpress.c...   \n",
       "2112  <footer class=\"axp-footer__footer__footer___32...   \n",
       "2120  <head><title>App Design &amp; Development | Mo...   \n",
       "2121  <header class=\"top-header\" id=\"myHeader\"><nav>...   \n",
       "2122  <footer class=\"container-fluid pd-0 footer-bg\"...   \n",
       "\n",
       "                                  chunk_id                         prefix_url  \n",
       "60    af3a36a1-fb5a-44b1-b5ae-9b040ca5889c                https://betahaus.bg  \n",
       "63    293eeafb-09f9-4611-8d37-0e5f07dae564               https://bestbees.com  \n",
       "64    fe49b6bb-9a6d-4c3a-8b23-40c8071e3cd4               https://bestbees.com  \n",
       "87    a6851616-8a65-4409-9a63-66a6eb2153cc               https://bestbees.com  \n",
       "88    271d5729-d600-47f6-87e2-5b7aa065f712               https://bestbees.com  \n",
       "...                                    ...                                ...  \n",
       "2111  ace4dac1-4401-4b5b-b61a-4b922d3a8362    https://www.americanexpress.com  \n",
       "2112  4ea2b388-7505-4e20-b57e-75eaddb4d242    https://www.americanexpress.com  \n",
       "2120  07c06cb2-1d10-46ac-84e3-b0eaa0279fb2  https://www.mobileprogramming.com  \n",
       "2121  b9015037-7ef1-4bb1-8607-f63fefb06226  https://www.mobileprogramming.com  \n",
       "2122  6afb8c04-87cc-45d7-a7f4-c11df0d88d54  https://www.mobileprogramming.com  \n",
       "\n",
       "[791 rows x 8 columns]"
      ]
     },
     "execution_count": 23,
     "metadata": {},
     "output_type": "execute_result"
    }
   ],
   "source": [
    "df[df['chunk_hash'].duplicated()]"
   ]
  },
  {
   "cell_type": "code",
   "execution_count": 24,
   "id": "def8bc3f",
   "metadata": {},
   "outputs": [
    {
     "data": {
      "text/html": [
       "<div>\n",
       "<style scoped>\n",
       "    .dataframe tbody tr th:only-of-type {\n",
       "        vertical-align: middle;\n",
       "    }\n",
       "\n",
       "    .dataframe tbody tr th {\n",
       "        vertical-align: top;\n",
       "    }\n",
       "\n",
       "    .dataframe thead th {\n",
       "        text-align: right;\n",
       "    }\n",
       "</style>\n",
       "<table border=\"1\" class=\"dataframe\">\n",
       "  <thead>\n",
       "    <tr style=\"text-align: right;\">\n",
       "      <th></th>\n",
       "      <th>company_id</th>\n",
       "      <th>company_name</th>\n",
       "      <th>url</th>\n",
       "      <th>chunk_type</th>\n",
       "      <th>chunk_hash</th>\n",
       "      <th>chunk</th>\n",
       "      <th>chunk_id</th>\n",
       "      <th>prefix_url</th>\n",
       "    </tr>\n",
       "  </thead>\n",
       "  <tbody>\n",
       "    <tr>\n",
       "      <th>9</th>\n",
       "      <td>21a77c0a-0dae-4d9d-8f16-722c4cb80fa4</td>\n",
       "      <td>The Best Bees Company</td>\n",
       "      <td>https://bestbees.com/privacy-policy/</td>\n",
       "      <td>header</td>\n",
       "      <td>2a1407969dc3931af069563f58b3ec89bfa300ac6c4b1f...</td>\n",
       "      <td>&lt;header class=\"fl-builder-content fl-builder-c...</td>\n",
       "      <td>4947730c-1fce-4572-b8b9-a030f2f6d1f9</td>\n",
       "      <td>https://bestbees.com</td>\n",
       "    </tr>\n",
       "    <tr>\n",
       "      <th>63</th>\n",
       "      <td>21a77c0a-0dae-4d9d-8f16-722c4cb80fa4</td>\n",
       "      <td>The Best Bees Company</td>\n",
       "      <td>https://bestbees.com/blog/</td>\n",
       "      <td>header</td>\n",
       "      <td>2a1407969dc3931af069563f58b3ec89bfa300ac6c4b1f...</td>\n",
       "      <td>&lt;header class=\"fl-builder-content fl-builder-c...</td>\n",
       "      <td>293eeafb-09f9-4611-8d37-0e5f07dae564</td>\n",
       "      <td>https://bestbees.com</td>\n",
       "    </tr>\n",
       "    <tr>\n",
       "      <th>87</th>\n",
       "      <td>21a77c0a-0dae-4d9d-8f16-722c4cb80fa4</td>\n",
       "      <td>The Best Bees Company</td>\n",
       "      <td>https://bestbees.com/get-started/</td>\n",
       "      <td>header</td>\n",
       "      <td>2a1407969dc3931af069563f58b3ec89bfa300ac6c4b1f...</td>\n",
       "      <td>&lt;header class=\"fl-builder-content fl-builder-c...</td>\n",
       "      <td>a6851616-8a65-4409-9a63-66a6eb2153cc</td>\n",
       "      <td>https://bestbees.com</td>\n",
       "    </tr>\n",
       "    <tr>\n",
       "      <th>810</th>\n",
       "      <td>21a77c0a-0dae-4d9d-8f16-722c4cb80fa4</td>\n",
       "      <td>The Best Bees Company</td>\n",
       "      <td>https://bestbees.com/faq/</td>\n",
       "      <td>header</td>\n",
       "      <td>2a1407969dc3931af069563f58b3ec89bfa300ac6c4b1f...</td>\n",
       "      <td>&lt;header class=\"fl-builder-content fl-builder-c...</td>\n",
       "      <td>30cf696d-66d5-4d47-b05c-4e79ca90bfd4</td>\n",
       "      <td>https://bestbees.com</td>\n",
       "    </tr>\n",
       "    <tr>\n",
       "      <th>826</th>\n",
       "      <td>21a77c0a-0dae-4d9d-8f16-722c4cb80fa4</td>\n",
       "      <td>The Best Bees Company</td>\n",
       "      <td>https://bestbees.com/about/keynotes/</td>\n",
       "      <td>header</td>\n",
       "      <td>2a1407969dc3931af069563f58b3ec89bfa300ac6c4b1f...</td>\n",
       "      <td>&lt;header class=\"fl-builder-content fl-builder-c...</td>\n",
       "      <td>e1467392-216e-4479-b64e-815b4eb4700c</td>\n",
       "      <td>https://bestbees.com</td>\n",
       "    </tr>\n",
       "    <tr>\n",
       "      <th>930</th>\n",
       "      <td>21a77c0a-0dae-4d9d-8f16-722c4cb80fa4</td>\n",
       "      <td>The Best Bees Company</td>\n",
       "      <td>https://bestbees.com/about/</td>\n",
       "      <td>header</td>\n",
       "      <td>2a1407969dc3931af069563f58b3ec89bfa300ac6c4b1f...</td>\n",
       "      <td>&lt;header class=\"fl-builder-content fl-builder-c...</td>\n",
       "      <td>d596ea9f-41f5-4a3a-98ab-7e169f256941</td>\n",
       "      <td>https://bestbees.com</td>\n",
       "    </tr>\n",
       "    <tr>\n",
       "      <th>996</th>\n",
       "      <td>21a77c0a-0dae-4d9d-8f16-722c4cb80fa4</td>\n",
       "      <td>The Best Bees Company</td>\n",
       "      <td>https://bestbees.com/category/press/</td>\n",
       "      <td>header</td>\n",
       "      <td>2a1407969dc3931af069563f58b3ec89bfa300ac6c4b1f...</td>\n",
       "      <td>&lt;header class=\"fl-builder-content fl-builder-c...</td>\n",
       "      <td>3816ccf8-717c-4cf0-9466-e7f05591b4bf</td>\n",
       "      <td>https://bestbees.com</td>\n",
       "    </tr>\n",
       "    <tr>\n",
       "      <th>1233</th>\n",
       "      <td>21a77c0a-0dae-4d9d-8f16-722c4cb80fa4</td>\n",
       "      <td>The Best Bees Company</td>\n",
       "      <td>https://bestbees.com/</td>\n",
       "      <td>header</td>\n",
       "      <td>2a1407969dc3931af069563f58b3ec89bfa300ac6c4b1f...</td>\n",
       "      <td>&lt;header class=\"fl-builder-content fl-builder-c...</td>\n",
       "      <td>30a94c64-02b8-4132-82e4-59153c58f493</td>\n",
       "      <td>https://bestbees.com</td>\n",
       "    </tr>\n",
       "    <tr>\n",
       "      <th>1732</th>\n",
       "      <td>21a77c0a-0dae-4d9d-8f16-722c4cb80fa4</td>\n",
       "      <td>The Best Bees Company</td>\n",
       "      <td>https://bestbees.com/jobs/</td>\n",
       "      <td>header</td>\n",
       "      <td>2a1407969dc3931af069563f58b3ec89bfa300ac6c4b1f...</td>\n",
       "      <td>&lt;header class=\"fl-builder-content fl-builder-c...</td>\n",
       "      <td>72c84268-0676-4ad4-bb09-0325badf2541</td>\n",
       "      <td>https://bestbees.com</td>\n",
       "    </tr>\n",
       "  </tbody>\n",
       "</table>\n",
       "</div>"
      ],
      "text/plain": [
       "                                company_id           company_name  \\\n",
       "9     21a77c0a-0dae-4d9d-8f16-722c4cb80fa4  The Best Bees Company   \n",
       "63    21a77c0a-0dae-4d9d-8f16-722c4cb80fa4  The Best Bees Company   \n",
       "87    21a77c0a-0dae-4d9d-8f16-722c4cb80fa4  The Best Bees Company   \n",
       "810   21a77c0a-0dae-4d9d-8f16-722c4cb80fa4  The Best Bees Company   \n",
       "826   21a77c0a-0dae-4d9d-8f16-722c4cb80fa4  The Best Bees Company   \n",
       "930   21a77c0a-0dae-4d9d-8f16-722c4cb80fa4  The Best Bees Company   \n",
       "996   21a77c0a-0dae-4d9d-8f16-722c4cb80fa4  The Best Bees Company   \n",
       "1233  21a77c0a-0dae-4d9d-8f16-722c4cb80fa4  The Best Bees Company   \n",
       "1732  21a77c0a-0dae-4d9d-8f16-722c4cb80fa4  The Best Bees Company   \n",
       "\n",
       "                                       url chunk_type  \\\n",
       "9     https://bestbees.com/privacy-policy/     header   \n",
       "63              https://bestbees.com/blog/     header   \n",
       "87       https://bestbees.com/get-started/     header   \n",
       "810              https://bestbees.com/faq/     header   \n",
       "826   https://bestbees.com/about/keynotes/     header   \n",
       "930            https://bestbees.com/about/     header   \n",
       "996   https://bestbees.com/category/press/     header   \n",
       "1233                 https://bestbees.com/     header   \n",
       "1732            https://bestbees.com/jobs/     header   \n",
       "\n",
       "                                             chunk_hash  \\\n",
       "9     2a1407969dc3931af069563f58b3ec89bfa300ac6c4b1f...   \n",
       "63    2a1407969dc3931af069563f58b3ec89bfa300ac6c4b1f...   \n",
       "87    2a1407969dc3931af069563f58b3ec89bfa300ac6c4b1f...   \n",
       "810   2a1407969dc3931af069563f58b3ec89bfa300ac6c4b1f...   \n",
       "826   2a1407969dc3931af069563f58b3ec89bfa300ac6c4b1f...   \n",
       "930   2a1407969dc3931af069563f58b3ec89bfa300ac6c4b1f...   \n",
       "996   2a1407969dc3931af069563f58b3ec89bfa300ac6c4b1f...   \n",
       "1233  2a1407969dc3931af069563f58b3ec89bfa300ac6c4b1f...   \n",
       "1732  2a1407969dc3931af069563f58b3ec89bfa300ac6c4b1f...   \n",
       "\n",
       "                                                  chunk  \\\n",
       "9     <header class=\"fl-builder-content fl-builder-c...   \n",
       "63    <header class=\"fl-builder-content fl-builder-c...   \n",
       "87    <header class=\"fl-builder-content fl-builder-c...   \n",
       "810   <header class=\"fl-builder-content fl-builder-c...   \n",
       "826   <header class=\"fl-builder-content fl-builder-c...   \n",
       "930   <header class=\"fl-builder-content fl-builder-c...   \n",
       "996   <header class=\"fl-builder-content fl-builder-c...   \n",
       "1233  <header class=\"fl-builder-content fl-builder-c...   \n",
       "1732  <header class=\"fl-builder-content fl-builder-c...   \n",
       "\n",
       "                                  chunk_id            prefix_url  \n",
       "9     4947730c-1fce-4572-b8b9-a030f2f6d1f9  https://bestbees.com  \n",
       "63    293eeafb-09f9-4611-8d37-0e5f07dae564  https://bestbees.com  \n",
       "87    a6851616-8a65-4409-9a63-66a6eb2153cc  https://bestbees.com  \n",
       "810   30cf696d-66d5-4d47-b05c-4e79ca90bfd4  https://bestbees.com  \n",
       "826   e1467392-216e-4479-b64e-815b4eb4700c  https://bestbees.com  \n",
       "930   d596ea9f-41f5-4a3a-98ab-7e169f256941  https://bestbees.com  \n",
       "996   3816ccf8-717c-4cf0-9466-e7f05591b4bf  https://bestbees.com  \n",
       "1233  30a94c64-02b8-4132-82e4-59153c58f493  https://bestbees.com  \n",
       "1732  72c84268-0676-4ad4-bb09-0325badf2541  https://bestbees.com  "
      ]
     },
     "execution_count": 24,
     "metadata": {},
     "output_type": "execute_result"
    }
   ],
   "source": [
    "temp_df = df[df['company_id'] == '21a77c0a-0dae-4d9d-8f16-722c4cb80fa4']\n",
    "temp_df[temp_df['chunk_type'] == 'header']"
   ]
  },
  {
   "cell_type": "code",
   "execution_count": 25,
   "id": "3898a844",
   "metadata": {},
   "outputs": [
    {
     "data": {
      "text/html": [
       "<div>\n",
       "<style scoped>\n",
       "    .dataframe tbody tr th:only-of-type {\n",
       "        vertical-align: middle;\n",
       "    }\n",
       "\n",
       "    .dataframe tbody tr th {\n",
       "        vertical-align: top;\n",
       "    }\n",
       "\n",
       "    .dataframe thead th {\n",
       "        text-align: right;\n",
       "    }\n",
       "</style>\n",
       "<table border=\"1\" class=\"dataframe\">\n",
       "  <thead>\n",
       "    <tr style=\"text-align: right;\">\n",
       "      <th></th>\n",
       "      <th>company_id</th>\n",
       "      <th>company_name</th>\n",
       "      <th>url</th>\n",
       "      <th>chunk_type</th>\n",
       "      <th>chunk_hash</th>\n",
       "      <th>chunk</th>\n",
       "      <th>chunk_id</th>\n",
       "      <th>prefix_url</th>\n",
       "    </tr>\n",
       "  </thead>\n",
       "  <tbody>\n",
       "    <tr>\n",
       "      <th>10</th>\n",
       "      <td>21a77c0a-0dae-4d9d-8f16-722c4cb80fa4</td>\n",
       "      <td>The Best Bees Company</td>\n",
       "      <td>https://bestbees.com/privacy-policy/</td>\n",
       "      <td>footer</td>\n",
       "      <td>c04c6008e00dc3e53fdea0d3f8db942f8aff0bff155c17...</td>\n",
       "      <td>&lt;footer class=\"fl-builder-content fl-builder-c...</td>\n",
       "      <td>35f967ac-2194-41d4-ac84-7063eb9036d4</td>\n",
       "      <td>https://bestbees.com</td>\n",
       "    </tr>\n",
       "    <tr>\n",
       "      <th>64</th>\n",
       "      <td>21a77c0a-0dae-4d9d-8f16-722c4cb80fa4</td>\n",
       "      <td>The Best Bees Company</td>\n",
       "      <td>https://bestbees.com/blog/</td>\n",
       "      <td>footer</td>\n",
       "      <td>c04c6008e00dc3e53fdea0d3f8db942f8aff0bff155c17...</td>\n",
       "      <td>&lt;footer class=\"fl-builder-content fl-builder-c...</td>\n",
       "      <td>fe49b6bb-9a6d-4c3a-8b23-40c8071e3cd4</td>\n",
       "      <td>https://bestbees.com</td>\n",
       "    </tr>\n",
       "    <tr>\n",
       "      <th>88</th>\n",
       "      <td>21a77c0a-0dae-4d9d-8f16-722c4cb80fa4</td>\n",
       "      <td>The Best Bees Company</td>\n",
       "      <td>https://bestbees.com/get-started/</td>\n",
       "      <td>footer</td>\n",
       "      <td>c04c6008e00dc3e53fdea0d3f8db942f8aff0bff155c17...</td>\n",
       "      <td>&lt;footer class=\"fl-builder-content fl-builder-c...</td>\n",
       "      <td>271d5729-d600-47f6-87e2-5b7aa065f712</td>\n",
       "      <td>https://bestbees.com</td>\n",
       "    </tr>\n",
       "    <tr>\n",
       "      <th>811</th>\n",
       "      <td>21a77c0a-0dae-4d9d-8f16-722c4cb80fa4</td>\n",
       "      <td>The Best Bees Company</td>\n",
       "      <td>https://bestbees.com/faq/</td>\n",
       "      <td>footer</td>\n",
       "      <td>c04c6008e00dc3e53fdea0d3f8db942f8aff0bff155c17...</td>\n",
       "      <td>&lt;footer class=\"fl-builder-content fl-builder-c...</td>\n",
       "      <td>32088a7c-7502-455d-b129-b0744fbcedba</td>\n",
       "      <td>https://bestbees.com</td>\n",
       "    </tr>\n",
       "    <tr>\n",
       "      <th>827</th>\n",
       "      <td>21a77c0a-0dae-4d9d-8f16-722c4cb80fa4</td>\n",
       "      <td>The Best Bees Company</td>\n",
       "      <td>https://bestbees.com/about/keynotes/</td>\n",
       "      <td>footer</td>\n",
       "      <td>c04c6008e00dc3e53fdea0d3f8db942f8aff0bff155c17...</td>\n",
       "      <td>&lt;footer class=\"fl-builder-content fl-builder-c...</td>\n",
       "      <td>84c66554-a2ab-4a3a-a593-05e0ea5725b5</td>\n",
       "      <td>https://bestbees.com</td>\n",
       "    </tr>\n",
       "    <tr>\n",
       "      <th>931</th>\n",
       "      <td>21a77c0a-0dae-4d9d-8f16-722c4cb80fa4</td>\n",
       "      <td>The Best Bees Company</td>\n",
       "      <td>https://bestbees.com/about/</td>\n",
       "      <td>footer</td>\n",
       "      <td>c04c6008e00dc3e53fdea0d3f8db942f8aff0bff155c17...</td>\n",
       "      <td>&lt;footer class=\"fl-builder-content fl-builder-c...</td>\n",
       "      <td>a4eaf0b4-e612-499b-ac38-aafd2a9d1fec</td>\n",
       "      <td>https://bestbees.com</td>\n",
       "    </tr>\n",
       "    <tr>\n",
       "      <th>997</th>\n",
       "      <td>21a77c0a-0dae-4d9d-8f16-722c4cb80fa4</td>\n",
       "      <td>The Best Bees Company</td>\n",
       "      <td>https://bestbees.com/category/press/</td>\n",
       "      <td>footer</td>\n",
       "      <td>c04c6008e00dc3e53fdea0d3f8db942f8aff0bff155c17...</td>\n",
       "      <td>&lt;footer class=\"fl-builder-content fl-builder-c...</td>\n",
       "      <td>930d5c61-03d0-47a5-b662-88b015269848</td>\n",
       "      <td>https://bestbees.com</td>\n",
       "    </tr>\n",
       "    <tr>\n",
       "      <th>1234</th>\n",
       "      <td>21a77c0a-0dae-4d9d-8f16-722c4cb80fa4</td>\n",
       "      <td>The Best Bees Company</td>\n",
       "      <td>https://bestbees.com/</td>\n",
       "      <td>footer</td>\n",
       "      <td>c04c6008e00dc3e53fdea0d3f8db942f8aff0bff155c17...</td>\n",
       "      <td>&lt;footer class=\"fl-builder-content fl-builder-c...</td>\n",
       "      <td>3e4d2278-a93a-404d-9610-96e1852fba49</td>\n",
       "      <td>https://bestbees.com</td>\n",
       "    </tr>\n",
       "    <tr>\n",
       "      <th>1733</th>\n",
       "      <td>21a77c0a-0dae-4d9d-8f16-722c4cb80fa4</td>\n",
       "      <td>The Best Bees Company</td>\n",
       "      <td>https://bestbees.com/jobs/</td>\n",
       "      <td>footer</td>\n",
       "      <td>c04c6008e00dc3e53fdea0d3f8db942f8aff0bff155c17...</td>\n",
       "      <td>&lt;footer class=\"fl-builder-content fl-builder-c...</td>\n",
       "      <td>78a874b6-051c-479b-9410-7d3c48b27b21</td>\n",
       "      <td>https://bestbees.com</td>\n",
       "    </tr>\n",
       "  </tbody>\n",
       "</table>\n",
       "</div>"
      ],
      "text/plain": [
       "                                company_id           company_name  \\\n",
       "10    21a77c0a-0dae-4d9d-8f16-722c4cb80fa4  The Best Bees Company   \n",
       "64    21a77c0a-0dae-4d9d-8f16-722c4cb80fa4  The Best Bees Company   \n",
       "88    21a77c0a-0dae-4d9d-8f16-722c4cb80fa4  The Best Bees Company   \n",
       "811   21a77c0a-0dae-4d9d-8f16-722c4cb80fa4  The Best Bees Company   \n",
       "827   21a77c0a-0dae-4d9d-8f16-722c4cb80fa4  The Best Bees Company   \n",
       "931   21a77c0a-0dae-4d9d-8f16-722c4cb80fa4  The Best Bees Company   \n",
       "997   21a77c0a-0dae-4d9d-8f16-722c4cb80fa4  The Best Bees Company   \n",
       "1234  21a77c0a-0dae-4d9d-8f16-722c4cb80fa4  The Best Bees Company   \n",
       "1733  21a77c0a-0dae-4d9d-8f16-722c4cb80fa4  The Best Bees Company   \n",
       "\n",
       "                                       url chunk_type  \\\n",
       "10    https://bestbees.com/privacy-policy/     footer   \n",
       "64              https://bestbees.com/blog/     footer   \n",
       "88       https://bestbees.com/get-started/     footer   \n",
       "811              https://bestbees.com/faq/     footer   \n",
       "827   https://bestbees.com/about/keynotes/     footer   \n",
       "931            https://bestbees.com/about/     footer   \n",
       "997   https://bestbees.com/category/press/     footer   \n",
       "1234                 https://bestbees.com/     footer   \n",
       "1733            https://bestbees.com/jobs/     footer   \n",
       "\n",
       "                                             chunk_hash  \\\n",
       "10    c04c6008e00dc3e53fdea0d3f8db942f8aff0bff155c17...   \n",
       "64    c04c6008e00dc3e53fdea0d3f8db942f8aff0bff155c17...   \n",
       "88    c04c6008e00dc3e53fdea0d3f8db942f8aff0bff155c17...   \n",
       "811   c04c6008e00dc3e53fdea0d3f8db942f8aff0bff155c17...   \n",
       "827   c04c6008e00dc3e53fdea0d3f8db942f8aff0bff155c17...   \n",
       "931   c04c6008e00dc3e53fdea0d3f8db942f8aff0bff155c17...   \n",
       "997   c04c6008e00dc3e53fdea0d3f8db942f8aff0bff155c17...   \n",
       "1234  c04c6008e00dc3e53fdea0d3f8db942f8aff0bff155c17...   \n",
       "1733  c04c6008e00dc3e53fdea0d3f8db942f8aff0bff155c17...   \n",
       "\n",
       "                                                  chunk  \\\n",
       "10    <footer class=\"fl-builder-content fl-builder-c...   \n",
       "64    <footer class=\"fl-builder-content fl-builder-c...   \n",
       "88    <footer class=\"fl-builder-content fl-builder-c...   \n",
       "811   <footer class=\"fl-builder-content fl-builder-c...   \n",
       "827   <footer class=\"fl-builder-content fl-builder-c...   \n",
       "931   <footer class=\"fl-builder-content fl-builder-c...   \n",
       "997   <footer class=\"fl-builder-content fl-builder-c...   \n",
       "1234  <footer class=\"fl-builder-content fl-builder-c...   \n",
       "1733  <footer class=\"fl-builder-content fl-builder-c...   \n",
       "\n",
       "                                  chunk_id            prefix_url  \n",
       "10    35f967ac-2194-41d4-ac84-7063eb9036d4  https://bestbees.com  \n",
       "64    fe49b6bb-9a6d-4c3a-8b23-40c8071e3cd4  https://bestbees.com  \n",
       "88    271d5729-d600-47f6-87e2-5b7aa065f712  https://bestbees.com  \n",
       "811   32088a7c-7502-455d-b129-b0744fbcedba  https://bestbees.com  \n",
       "827   84c66554-a2ab-4a3a-a593-05e0ea5725b5  https://bestbees.com  \n",
       "931   a4eaf0b4-e612-499b-ac38-aafd2a9d1fec  https://bestbees.com  \n",
       "997   930d5c61-03d0-47a5-b662-88b015269848  https://bestbees.com  \n",
       "1234  3e4d2278-a93a-404d-9610-96e1852fba49  https://bestbees.com  \n",
       "1733  78a874b6-051c-479b-9410-7d3c48b27b21  https://bestbees.com  "
      ]
     },
     "execution_count": 25,
     "metadata": {},
     "output_type": "execute_result"
    }
   ],
   "source": [
    "temp_df = df[df['company_id'] == '21a77c0a-0dae-4d9d-8f16-722c4cb80fa4']\n",
    "temp_df[temp_df['chunk_type'] == 'footer']"
   ]
  },
  {
   "cell_type": "markdown",
   "id": "7aa4d0ce",
   "metadata": {},
   "source": [
    "On analyzing the data, duplicates occur when the prefix url is same eg:https://bestbees.com but the actual url is different.\n",
    "- https://bestbees.com/blog/ and https://bestbees.com/get-started/\tboth refer to the same company (bestbees) and might have the same header or footer.\n",
    "\n",
    "This makes sense as most of the companys header and footer remains common across their entire site."
   ]
  },
  {
   "cell_type": "markdown",
   "id": "b6006c7b",
   "metadata": {},
   "source": [
    "# Part 2- RAG "
   ]
  },
  {
   "cell_type": "markdown",
   "id": "116f392d",
   "metadata": {},
   "source": [
    "The `chunk` column has the actual information related to the companies. Since these are in HTML format, it should be converted to normal text which isn't confusing to the LLM."
   ]
  },
  {
   "cell_type": "markdown",
   "id": "2b526381",
   "metadata": {},
   "source": [
    "**General HTML structure**\n",
    "\n",
    "1. Head\n",
    "2. Header\n",
    "3. Main\n",
    "4. Footer"
   ]
  },
  {
   "cell_type": "code",
   "execution_count": 29,
   "id": "25de271f",
   "metadata": {},
   "outputs": [
    {
     "data": {
      "image/png": "[encoded data removed]",
      "text/plain": [
       "<IPython.core.display.Image object>"
      ]
     },
     "execution_count": 29,
     "metadata": {},
     "output_type": "execute_result"
    }
   ],
   "source": [
    "from IPython.display import Image\n",
    "Image(filename='../assets/Architecture_diagram.png')"
   ]
  },
  {
   "cell_type": "markdown",
   "id": "b2a02175",
   "metadata": {},
   "source": [
    "## Data Pre-Processing"
   ]
  },
  {
   "cell_type": "code",
   "execution_count": 30,
   "id": "ac9e9802",
   "metadata": {},
   "outputs": [],
   "source": [
    "from bs4 import BeautifulSoup"
   ]
  },
  {
   "cell_type": "code",
   "execution_count": 31,
   "id": "28e558b1",
   "metadata": {},
   "outputs": [],
   "source": [
    "def extract_text(html_content):\n",
    "    \"\"\"\n",
    "    Extracts text from HTML content.\n",
    "    \n",
    "    Args:\n",
    "        html_content (str): The HTML content to extract text from.\n",
    "        \n",
    "    Returns:\n",
    "        str: The extracted text.\n",
    "    \"\"\"\n",
    "    soup = BeautifulSoup(html_content, \"lxml\")\n",
    "    text = soup.get_text(separator=\"\\n\", strip=True)\n",
    "    return text"
   ]
  },
  {
   "cell_type": "code",
   "execution_count": 32,
   "id": "e401283a",
   "metadata": {},
   "outputs": [],
   "source": [
    "extracted_text = [extract_text(x) for x in df['chunk']]\n",
    "df['extracted_text'] = extracted_text"
   ]
  },
  {
   "cell_type": "code",
   "execution_count": 33,
   "id": "a3a17149",
   "metadata": {},
   "outputs": [],
   "source": [
    "df['length'] = [len(x) for x in df['extracted_text']]"
   ]
  },
  {
   "cell_type": "markdown",
   "id": "c0662224",
   "metadata": {},
   "source": [
    "On further extraction some of the chunks have length <=3. Let's remove them from the dataset."
   ]
  },
  {
   "cell_type": "code",
   "execution_count": 34,
   "id": "0b382d48",
   "metadata": {},
   "outputs": [],
   "source": [
    "df = df[df['length'] >3]\n",
    "df.reset_index(inplace = True)"
   ]
  },
  {
   "cell_type": "code",
   "execution_count": 35,
   "id": "6e110c42",
   "metadata": {},
   "outputs": [
    {
     "data": {
      "text/plain": [
       "(2049, 11)"
      ]
     },
     "execution_count": 35,
     "metadata": {},
     "output_type": "execute_result"
    }
   ],
   "source": [
    "df.shape"
   ]
  },
  {
   "cell_type": "markdown",
   "id": "a9cee584",
   "metadata": {},
   "source": [
    "Adding company name to the main chunk type might help with the retrieval."
   ]
  },
  {
   "cell_type": "code",
   "execution_count": 36,
   "id": "0c8079c9",
   "metadata": {},
   "outputs": [],
   "source": [
    "df.loc[df['chunk_type'] == 'main', 'extracted_text'] = \"Company name: \" + df['company_name'] + \" \" + df['extracted_text']"
   ]
  },
  {
   "cell_type": "code",
   "execution_count": 37,
   "id": "3d408bd3",
   "metadata": {},
   "outputs": [],
   "source": [
    "df.drop('index', axis= 1, inplace = True)"
   ]
  },
  {
   "cell_type": "markdown",
   "id": "57aaa4da",
   "metadata": {},
   "source": [
    "## Chunking"
   ]
  },
  {
   "cell_type": "markdown",
   "id": "05efd965",
   "metadata": {},
   "source": [
    "Chunking is needed when\n",
    "1. The input to the LLM model exceeds the token limit.\n",
    "2. Representing huge texts as a single vector representation might be noisy and might loose some important information in the process.\n",
    "3. Longer chunks/texts leads to an increased inference cost.\n",
    "\n",
    "The given dataset has been already chunked using the Hierarchical chunking approach.\n",
    "\n",
    "**Usage:** <br>\n",
    "- OPEN AI GPT 3.5 turbo model `gpt-3.5-turbo` (max token limit = 16835)\n",
    "-`text-embedding-3-small`. (max token limit = 8191)\n",
    "\n",
    "In this dataset\n",
    "- max_chunk_length = 5834 words, tokens = 7700 *approx* <br>\n",
    "- avg_chunk_length = 254 words, tokens = 338 *approx*\n",
    "\n",
    "We could leave the chunks as it is but there are risks of the 3 points mentioned above and most of the top performing open source embedding models have max token limit of 512. So we follow the below strategy for chunking\n",
    "\n",
    "Assuming we will be retrieving `top_k` documents where k <= 5 and total token limit by these k documents <=10000 and rest of the tokens for query and the prompt (6835), each document could be of size 2000 tokens ~  *1500 words approx*. So max chunk can be of size 1500 words and if it exceeds this limit, further chunking would be done recursively."
   ]
  },
  {
   "cell_type": "code",
   "execution_count": 39,
   "id": "088a6f4d",
   "metadata": {},
   "outputs": [],
   "source": [
    "df['length'] = [len(x.split()) for x in df['extracted_text']]"
   ]
  },
  {
   "cell_type": "code",
   "execution_count": 40,
   "id": "abad077f",
   "metadata": {},
   "outputs": [
    {
     "data": {
      "text/plain": [
       "5834"
      ]
     },
     "execution_count": 40,
     "metadata": {},
     "output_type": "execute_result"
    }
   ],
   "source": [
    "np.max(df['length'])"
   ]
  },
  {
   "cell_type": "code",
   "execution_count": 41,
   "id": "9c509d66",
   "metadata": {},
   "outputs": [
    {
     "data": {
      "text/plain": [
       "254.8818936066374"
      ]
     },
     "execution_count": 41,
     "metadata": {},
     "output_type": "execute_result"
    }
   ],
   "source": [
    "np.mean(df['length'])"
   ]
  },
  {
   "cell_type": "code",
   "execution_count": 43,
   "id": "eb8747e6",
   "metadata": {},
   "outputs": [
    {
     "data": {
      "text/plain": [
       "{'whiskers': [<matplotlib.lines.Line2D at 0x29e2dc8e4a0>,\n",
       "  <matplotlib.lines.Line2D at 0x29e2dc8e740>],\n",
       " 'caps': [<matplotlib.lines.Line2D at 0x29e2dc8e9e0>,\n",
       "  <matplotlib.lines.Line2D at 0x29e2dc8ec80>],\n",
       " 'boxes': [<matplotlib.lines.Line2D at 0x29e2dc8e200>],\n",
       " 'medians': [<matplotlib.lines.Line2D at 0x29e2dc8ef20>],\n",
       " 'fliers': [<matplotlib.lines.Line2D at 0x29e2dc8f1c0>],\n",
       " 'means': []}"
      ]
     },
     "execution_count": 43,
     "metadata": {},
     "output_type": "execute_result"
    },
    {
     "data": {
      "image/png": "[encoded data removed]",
      "text/plain": [
       "<Figure size 640x480 with 1 Axes>"
      ]
     },
     "metadata": {},
     "output_type": "display_data"
    }
   ],
   "source": [
    "plt.boxplot(df['length'])"
   ]
  },
  {
   "cell_type": "code",
   "execution_count": 44,
   "id": "823bacfb",
   "metadata": {},
   "outputs": [
    {
     "data": {
      "text/html": [
       "<div>\n",
       "<style scoped>\n",
       "    .dataframe tbody tr th:only-of-type {\n",
       "        vertical-align: middle;\n",
       "    }\n",
       "\n",
       "    .dataframe tbody tr th {\n",
       "        vertical-align: top;\n",
       "    }\n",
       "\n",
       "    .dataframe thead th {\n",
       "        text-align: right;\n",
       "    }\n",
       "</style>\n",
       "<table border=\"1\" class=\"dataframe\">\n",
       "  <thead>\n",
       "    <tr style=\"text-align: right;\">\n",
       "      <th></th>\n",
       "      <th>company_id</th>\n",
       "      <th>company_name</th>\n",
       "      <th>url</th>\n",
       "      <th>chunk_type</th>\n",
       "      <th>chunk_hash</th>\n",
       "      <th>chunk</th>\n",
       "      <th>chunk_id</th>\n",
       "      <th>prefix_url</th>\n",
       "      <th>extracted_text</th>\n",
       "      <th>length</th>\n",
       "    </tr>\n",
       "  </thead>\n",
       "  <tbody>\n",
       "    <tr>\n",
       "      <th>29</th>\n",
       "      <td>c84b92cc-28a5-4383-845d-237926a5f120</td>\n",
       "      <td>Absolute Reg</td>\n",
       "      <td>https://absolutereg.co.uk/buying-terms-conditions</td>\n",
       "      <td>main</td>\n",
       "      <td>21b56cb5c32b5122087a47074fd1996ec84f60749c4cc9...</td>\n",
       "      <td>&lt;body&gt;&lt;nav&gt;&lt;a href=\"https://absolutereg.co.uk/...</td>\n",
       "      <td>2a40a01a-04b5-4df5-9bbe-cbd8e7a429e0</td>\n",
       "      <td>https://absolutereg.co.uk</td>\n",
       "      <td>Company name: Absolute Reg Menu\\nBuy\\nNumber P...</td>\n",
       "      <td>2205</td>\n",
       "    </tr>\n",
       "    <tr>\n",
       "      <th>40</th>\n",
       "      <td>aab2261b-7065-460d-83de-99404fb50f65</td>\n",
       "      <td>betahaus Sofia</td>\n",
       "      <td>https://betahaus.bg/privacy-policy</td>\n",
       "      <td>main</td>\n",
       "      <td>1e94615612f1e4a8014da72a2d4ac96d80a972cdaaac46...</td>\n",
       "      <td>&lt;body class=\"privacy-policy page-template-defa...</td>\n",
       "      <td>66b43a7a-bf81-45d3-b546-541acf38a369</td>\n",
       "      <td>https://betahaus.bg</td>\n",
       "      <td>Company name: betahaus Sofia Локации\\nЦени\\nОб...</td>\n",
       "      <td>1832</td>\n",
       "    </tr>\n",
       "    <tr>\n",
       "      <th>77</th>\n",
       "      <td>1d793954-ad6e-4d64-84d6-965b6d7e6e28</td>\n",
       "      <td>Abelini</td>\n",
       "      <td>https://www.abelini.com/terms-of-use</td>\n",
       "      <td>main</td>\n",
       "      <td>559180828d3239e8f2754891e04e927a6ed0ffe63c6ad9...</td>\n",
       "      <td>&lt;body class=\"body\"&gt;Loading...&lt;input placeholde...</td>\n",
       "      <td>f992f224-d0ad-42ce-8487-b2385829b799</td>\n",
       "      <td>https://www.abelini.com</td>\n",
       "      <td>Company name: Abelini Loading...\\nHome\\nTerms ...</td>\n",
       "      <td>4471</td>\n",
       "    </tr>\n",
       "    <tr>\n",
       "      <th>97</th>\n",
       "      <td>edda975d-a01c-4e93-8245-68183fb19ced</td>\n",
       "      <td>Billecta</td>\n",
       "      <td>https://billecta.com/for-storforetag/</td>\n",
       "      <td>footer</td>\n",
       "      <td>55daf8110e024ce11061d5ef2a342ceb15390eae36d054...</td>\n",
       "      <td>&lt;body class=\"page-template page-template-100-w...</td>\n",
       "      <td>57d5ce17-d142-4093-abe1-c50a90817c16</td>\n",
       "      <td>https://billecta.com</td>\n",
       "      <td>Skip to content\\nFör storföretag 2023-08-31T12...</td>\n",
       "      <td>1513</td>\n",
       "    </tr>\n",
       "    <tr>\n",
       "      <th>127</th>\n",
       "      <td>d09d7050-14d4-4bee-b7bc-709a046fa5c0</td>\n",
       "      <td>Ambrose Alli University</td>\n",
       "      <td>https://aauekpoma.edu.ng/about/industrial-trai...</td>\n",
       "      <td>main</td>\n",
       "      <td>727e5f668134587a5e229fdc26174b77168634bccb8d18...</td>\n",
       "      <td>&lt;body class=\"page-template page-template-page-...</td>\n",
       "      <td>a3cf21f3-558e-48a9-8915-cffca39092cc</td>\n",
       "      <td>https://aauekpoma.edu.ng</td>\n",
       "      <td>Company name: Ambrose Alli University Home (cu...</td>\n",
       "      <td>1981</td>\n",
       "    </tr>\n",
       "    <tr>\n",
       "      <th>...</th>\n",
       "      <td>...</td>\n",
       "      <td>...</td>\n",
       "      <td>...</td>\n",
       "      <td>...</td>\n",
       "      <td>...</td>\n",
       "      <td>...</td>\n",
       "      <td>...</td>\n",
       "      <td>...</td>\n",
       "      <td>...</td>\n",
       "      <td>...</td>\n",
       "    </tr>\n",
       "    <tr>\n",
       "      <th>1952</th>\n",
       "      <td>1fd25493-2b64-4e45-9286-496d1a2899c1</td>\n",
       "      <td>American Express Travel</td>\n",
       "      <td>https://www.americanexpress.com/en-us/travel/</td>\n",
       "      <td>main</td>\n",
       "      <td>ee48d9aab959807043e15838ca656504bfc931c225f84e...</td>\n",
       "      <td>&lt;h2&gt;*Terms and Conditions&lt;/h2&gt;&lt;h3&gt;2X Membershi...</td>\n",
       "      <td>569608c0-8bf7-499b-9a12-b0fc8ce0540e</td>\n",
       "      <td>https://www.americanexpress.com</td>\n",
       "      <td>Company name: American Express Travel *Terms a...</td>\n",
       "      <td>4745</td>\n",
       "    </tr>\n",
       "    <tr>\n",
       "      <th>1958</th>\n",
       "      <td>1fd25493-2b64-4e45-9286-496d1a2899c1</td>\n",
       "      <td>American Express Travel</td>\n",
       "      <td>https://www.americanexpress.com/us/credit-card...</td>\n",
       "      <td>main</td>\n",
       "      <td>3b4c79dd6bbb79e149c66a75d5d7fbbdd088da6ea5a79c...</td>\n",
       "      <td>&lt;body class=\"en_US gcp-us-corpCategory prospec...</td>\n",
       "      <td>b7f2e80f-50db-4599-8ed9-39ac8b41cb00</td>\n",
       "      <td>https://www.americanexpress.com</td>\n",
       "      <td>Company name: American Express Travel {{prospe...</td>\n",
       "      <td>1551</td>\n",
       "    </tr>\n",
       "    <tr>\n",
       "      <th>1973</th>\n",
       "      <td>1fd25493-2b64-4e45-9286-496d1a2899c1</td>\n",
       "      <td>American Express Travel</td>\n",
       "      <td>https://www.americanexpress.com/us/credit-card...</td>\n",
       "      <td>main</td>\n",
       "      <td>473047d6bcded968180242c12a69768022815efac5f8b3...</td>\n",
       "      <td>&lt;body class=\"en_US gcp-us-businessCardsV2 pros...</td>\n",
       "      <td>ac388d3b-5200-4c6f-a59c-60a2e394fb01</td>\n",
       "      <td>https://www.americanexpress.com</td>\n",
       "      <td>Company name: American Express Travel {{prospe...</td>\n",
       "      <td>2538</td>\n",
       "    </tr>\n",
       "    <tr>\n",
       "      <th>1977</th>\n",
       "      <td>a07fb185-9f97-498c-bcda-a4c21fe27467</td>\n",
       "      <td>Università degli Studi di Milano</td>\n",
       "      <td>https://di.unimi.it/it/privacy-e-cookie</td>\n",
       "      <td>main</td>\n",
       "      <td>b154b1791389d5f2a3533d9241023220d5bf759ccf018d...</td>\n",
       "      <td>&lt;body class=\"path-node page-node-type-pagina-g...</td>\n",
       "      <td>a241fd56-6363-4ede-8580-a4a45b4b19b8</td>\n",
       "      <td>https://di.unimi.it</td>\n",
       "      <td>Company name: Università degli Studi di Milano...</td>\n",
       "      <td>2369</td>\n",
       "    </tr>\n",
       "    <tr>\n",
       "      <th>2035</th>\n",
       "      <td>1fd25493-2b64-4e45-9286-496d1a2899c1</td>\n",
       "      <td>American Express Travel</td>\n",
       "      <td>https://www.americanexpress.com/en-us/support/...</td>\n",
       "      <td>main</td>\n",
       "      <td>07e4836d92a9b81870491d79fa7f023782b49987a484e9...</td>\n",
       "      <td>&lt;body&gt;&lt;input type=\"hidden\" value=\"MobileApp\"/&gt;...</td>\n",
       "      <td>686cf063-169d-40c2-8736-2bd4cd156f64</td>\n",
       "      <td>https://www.americanexpress.com</td>\n",
       "      <td>Company name: American Express Travel Open Up ...</td>\n",
       "      <td>1694</td>\n",
       "    </tr>\n",
       "  </tbody>\n",
       "</table>\n",
       "<p>66 rows × 10 columns</p>\n",
       "</div>"
      ],
      "text/plain": [
       "                                company_id                      company_name  \\\n",
       "29    c84b92cc-28a5-4383-845d-237926a5f120                      Absolute Reg   \n",
       "40    aab2261b-7065-460d-83de-99404fb50f65                    betahaus Sofia   \n",
       "77    1d793954-ad6e-4d64-84d6-965b6d7e6e28                           Abelini   \n",
       "97    edda975d-a01c-4e93-8245-68183fb19ced                          Billecta   \n",
       "127   d09d7050-14d4-4bee-b7bc-709a046fa5c0           Ambrose Alli University   \n",
       "...                                    ...                               ...   \n",
       "1952  1fd25493-2b64-4e45-9286-496d1a2899c1           American Express Travel   \n",
       "1958  1fd25493-2b64-4e45-9286-496d1a2899c1           American Express Travel   \n",
       "1973  1fd25493-2b64-4e45-9286-496d1a2899c1           American Express Travel   \n",
       "1977  a07fb185-9f97-498c-bcda-a4c21fe27467  Università degli Studi di Milano   \n",
       "2035  1fd25493-2b64-4e45-9286-496d1a2899c1           American Express Travel   \n",
       "\n",
       "                                                    url chunk_type  \\\n",
       "29    https://absolutereg.co.uk/buying-terms-conditions       main   \n",
       "40                   https://betahaus.bg/privacy-policy       main   \n",
       "77                 https://www.abelini.com/terms-of-use       main   \n",
       "97                https://billecta.com/for-storforetag/     footer   \n",
       "127   https://aauekpoma.edu.ng/about/industrial-trai...       main   \n",
       "...                                                 ...        ...   \n",
       "1952      https://www.americanexpress.com/en-us/travel/       main   \n",
       "1958  https://www.americanexpress.com/us/credit-card...       main   \n",
       "1973  https://www.americanexpress.com/us/credit-card...       main   \n",
       "1977            https://di.unimi.it/it/privacy-e-cookie       main   \n",
       "2035  https://www.americanexpress.com/en-us/support/...       main   \n",
       "\n",
       "                                             chunk_hash  \\\n",
       "29    21b56cb5c32b5122087a47074fd1996ec84f60749c4cc9...   \n",
       "40    1e94615612f1e4a8014da72a2d4ac96d80a972cdaaac46...   \n",
       "77    559180828d3239e8f2754891e04e927a6ed0ffe63c6ad9...   \n",
       "97    55daf8110e024ce11061d5ef2a342ceb15390eae36d054...   \n",
       "127   727e5f668134587a5e229fdc26174b77168634bccb8d18...   \n",
       "...                                                 ...   \n",
       "1952  ee48d9aab959807043e15838ca656504bfc931c225f84e...   \n",
       "1958  3b4c79dd6bbb79e149c66a75d5d7fbbdd088da6ea5a79c...   \n",
       "1973  473047d6bcded968180242c12a69768022815efac5f8b3...   \n",
       "1977  b154b1791389d5f2a3533d9241023220d5bf759ccf018d...   \n",
       "2035  07e4836d92a9b81870491d79fa7f023782b49987a484e9...   \n",
       "\n",
       "                                                  chunk  \\\n",
       "29    <body><nav><a href=\"https://absolutereg.co.uk/...   \n",
       "40    <body class=\"privacy-policy page-template-defa...   \n",
       "77    <body class=\"body\">Loading...<input placeholde...   \n",
       "97    <body class=\"page-template page-template-100-w...   \n",
       "127   <body class=\"page-template page-template-page-...   \n",
       "...                                                 ...   \n",
       "1952  <h2>*Terms and Conditions</h2><h3>2X Membershi...   \n",
       "1958  <body class=\"en_US gcp-us-corpCategory prospec...   \n",
       "1973  <body class=\"en_US gcp-us-businessCardsV2 pros...   \n",
       "1977  <body class=\"path-node page-node-type-pagina-g...   \n",
       "2035  <body><input type=\"hidden\" value=\"MobileApp\"/>...   \n",
       "\n",
       "                                  chunk_id                       prefix_url  \\\n",
       "29    2a40a01a-04b5-4df5-9bbe-cbd8e7a429e0        https://absolutereg.co.uk   \n",
       "40    66b43a7a-bf81-45d3-b546-541acf38a369              https://betahaus.bg   \n",
       "77    f992f224-d0ad-42ce-8487-b2385829b799          https://www.abelini.com   \n",
       "97    57d5ce17-d142-4093-abe1-c50a90817c16             https://billecta.com   \n",
       "127   a3cf21f3-558e-48a9-8915-cffca39092cc         https://aauekpoma.edu.ng   \n",
       "...                                    ...                              ...   \n",
       "1952  569608c0-8bf7-499b-9a12-b0fc8ce0540e  https://www.americanexpress.com   \n",
       "1958  b7f2e80f-50db-4599-8ed9-39ac8b41cb00  https://www.americanexpress.com   \n",
       "1973  ac388d3b-5200-4c6f-a59c-60a2e394fb01  https://www.americanexpress.com   \n",
       "1977  a241fd56-6363-4ede-8580-a4a45b4b19b8              https://di.unimi.it   \n",
       "2035  686cf063-169d-40c2-8736-2bd4cd156f64  https://www.americanexpress.com   \n",
       "\n",
       "                                         extracted_text  length  \n",
       "29    Company name: Absolute Reg Menu\\nBuy\\nNumber P...    2205  \n",
       "40    Company name: betahaus Sofia Локации\\nЦени\\nОб...    1832  \n",
       "77    Company name: Abelini Loading...\\nHome\\nTerms ...    4471  \n",
       "97    Skip to content\\nFör storföretag 2023-08-31T12...    1513  \n",
       "127   Company name: Ambrose Alli University Home (cu...    1981  \n",
       "...                                                 ...     ...  \n",
       "1952  Company name: American Express Travel *Terms a...    4745  \n",
       "1958  Company name: American Express Travel {{prospe...    1551  \n",
       "1973  Company name: American Express Travel {{prospe...    2538  \n",
       "1977  Company name: Università degli Studi di Milano...    2369  \n",
       "2035  Company name: American Express Travel Open Up ...    1694  \n",
       "\n",
       "[66 rows x 10 columns]"
      ]
     },
     "execution_count": 44,
     "metadata": {},
     "output_type": "execute_result"
    }
   ],
   "source": [
    "df[df['length']>1500]"
   ]
  },
  {
   "cell_type": "code",
   "execution_count": 45,
   "id": "da4f6fff",
   "metadata": {},
   "outputs": [],
   "source": [
    "def split_text_recursively(text, max_length=1500, overlap_ratio=0.3):\n",
    "    \"\"\"\n",
    "    Splits a given text into chunks recursively based on the maximum length and overlap ratio.\n",
    "\n",
    "    Args:\n",
    "        text (str): The input text to be split.\n",
    "        max_length (int, optional): The maximum length of each chunk. Defaults to 1500 words.\n",
    "        overlap_ratio (float, optional): The overlap ratio between consecutive chunks. Defaults to 0.3.\n",
    "\n",
    "    Returns:\n",
    "        list: A list of text chunks where the no of words in a sentence is <1500.\n",
    "\n",
    "    \"\"\"\n",
    "    words = text.split()\n",
    "    if len(words) <= max_length:\n",
    "        return [' '.join(words)]\n",
    "    else:\n",
    "        overlap_length = int(max_length * overlap_ratio)\n",
    "        split_position = max_length\n",
    "        first_chunk = ' '.join(words[:split_position])\n",
    "        remaining_words = words[split_position - overlap_length:]\n",
    "        remaining_chunks = split_text_recursively(' '.join(remaining_words), max_length, overlap_ratio)\n",
    "        return [first_chunk] + remaining_chunks\n",
    "\n",
    "df['split_texts'] = df['extracted_text'].apply(lambda x: split_text_recursively(x, 1500, 0.3))\n",
    "df = df.explode('split_texts')\n",
    "df = df.reset_index(drop=True)"
   ]
  },
  {
   "cell_type": "code",
   "execution_count": 46,
   "id": "4c2db8e0",
   "metadata": {},
   "outputs": [],
   "source": [
    "length = [len(x.split()) for x in df['split_texts']]"
   ]
  },
  {
   "cell_type": "code",
   "execution_count": 47,
   "id": "881dabb2",
   "metadata": {},
   "outputs": [
    {
     "data": {
      "text/plain": [
       "False    2171\n",
       "Name: count, dtype: int64"
      ]
     },
     "execution_count": 47,
     "metadata": {},
     "output_type": "execute_result"
    }
   ],
   "source": [
    "pd.Series(np.array(length)>1500).value_counts()"
   ]
  },
  {
   "cell_type": "markdown",
   "id": "99670132",
   "metadata": {},
   "source": [
    "### Generating new unique chunk_id after chunking"
   ]
  },
  {
   "cell_type": "code",
   "execution_count": 48,
   "id": "1db0b695",
   "metadata": {},
   "outputs": [],
   "source": [
    "import uuid\n",
    "new_chunk_id = [str(uuid.uuid4()) for _ in range(len(df))]\n",
    "df['new_chunk_id'] = new_chunk_id"
   ]
  },
  {
   "cell_type": "markdown",
   "id": "cc564cd2",
   "metadata": {},
   "source": [
    "### Areas for Improvement\n",
    "\n",
    "Some of the different techniques to enhance the chunking performance/accuracy:\n",
    "1. Summarizing the document (company wise - all chunks related to that company) and appending the summary to the chunks. If the summary is too long, sub summaries could be made and these sub summaries could be appended to the relevant chunks.\n",
    "2. ParentDocumentRetriever by Langchain wherein the children chunks are used for retrival and during the LLM output generation the parent documents are fed to the model.\n",
    "3. Contextual Chunking: The text could be splitted based on the HTML tags instead of splitting after 1500 words.\n",
    "4. Head could be added to the rest of chunk_types as this might help with the retrieval process."
   ]
  },
  {
   "cell_type": "markdown",
   "id": "5f9549b4",
   "metadata": {},
   "source": [
    "## Embeddings"
   ]
  },
  {
   "cell_type": "markdown",
   "id": "984c2fbc",
   "metadata": {},
   "source": [
    "Since these chunks are not huge and these are all text documents, a simple numpy vector should be able to hold these embeddings. Vector databases like FAISS, Pinecone or Chroma would be an overkill for this task."
   ]
  },
  {
   "cell_type": "code",
   "execution_count": 45,
   "id": "7c0fafd3",
   "metadata": {},
   "outputs": [],
   "source": [
    "from openai import OpenAI\n",
    "client = OpenAI(api_key='') # place openai api key here"
   ]
  },
  {
   "cell_type": "code",
   "execution_count": 46,
   "id": "c9e7c001",
   "metadata": {},
   "outputs": [],
   "source": [
    "def create_embeddings(text):\n",
    "    \"\"\"\n",
    "    Creates embeddings for the given text using a text-embedding-3-small model.\n",
    "    \n",
    "    Args:\n",
    "        text (str): The input text for which embeddings need to be created.\n",
    "        \n",
    "    Returns:\n",
    "        numpy.ndarray: The embedding vector for the input text.\n",
    "    \"\"\"\n",
    "    response = client.embeddings.create(\n",
    "        input=text,\n",
    "        model=\"text-embedding-3-small\"\n",
    "    )\n",
    "    return response.data[0].embedding"
   ]
  },
  {
   "cell_type": "code",
   "execution_count": 47,
   "id": "1876f2ea",
   "metadata": {},
   "outputs": [],
   "source": [
    "embeddings = [create_embeddings(x) for x in df['split_texts']]"
   ]
  },
  {
   "cell_type": "code",
   "execution_count": 48,
   "id": "0417dd6e",
   "metadata": {},
   "outputs": [],
   "source": [
    "split_embeddings = np.array(embeddings)  \n",
    "np.save('../embeddings/split_embeddings.npy', split_embeddings)"
   ]
  },
  {
   "cell_type": "markdown",
   "id": "b4002976",
   "metadata": {},
   "source": [
    "### Areas for Improvement\n",
    "We could also try other open source embeddings like \n",
    "- gte\n",
    "- bge\n",
    "- e5\n",
    "\n",
    "To accomodate the token limit of these models we could just change the parameter `max_length` in `split_text_recursively` function and rerun the code again. "
   ]
  },
  {
   "cell_type": "markdown",
   "id": "a0714b02",
   "metadata": {},
   "source": [
    "## Relevant docs retrieval"
   ]
  },
  {
   "cell_type": "markdown",
   "id": "afaf096f",
   "metadata": {},
   "source": [
    "Cosine similarity is the most common metric that works well to find relevant text embeddings. We could try other distance metrics like euclidean, jaccard or even dot product. In general other metrics don't work as well as cosine similarity."
   ]
  },
  {
   "cell_type": "code",
   "execution_count": 49,
   "id": "ad0b0e24",
   "metadata": {},
   "outputs": [],
   "source": [
    "# Load the vector embeddings\n",
    "split_embeddings = np.load('../embeddings/split_embeddings.npy')"
   ]
  },
  {
   "cell_type": "code",
   "execution_count": 50,
   "id": "05c828d6",
   "metadata": {},
   "outputs": [],
   "source": [
    "from sklearn.metrics.pairwise import cosine_similarity\n",
    "from sklearn.feature_extraction.text import TfidfVectorizer\n",
    "import cohere"
   ]
  },
  {
   "cell_type": "code",
   "execution_count": 51,
   "id": "1523e4a8",
   "metadata": {},
   "outputs": [],
   "source": [
    "def find_relevant_vectors_cosine(query, document_embeddings, top_k=5):\n",
    "    \"\"\"\n",
    "    Finds the top k relevant vectors based on cosine similarity between a query vector and a list of document embeddings.\n",
    "\n",
    "    Args:\n",
    "        query (array-like): The query vector.\n",
    "        document_embeddings (array-like): The list of document embeddings.\n",
    "        top_k (int, optional): The number of top relevant vectors to return. Defaults to 5.\n",
    "\n",
    "    Returns:\n",
    "        tuple(list, list): A list of indices representing the top k most relevant vectors\n",
    "        in the collection and their corresponding cosine similarity scores\n",
    "    \"\"\"\n",
    "    query_embedding = np.array(create_embeddings(query)).reshape(1,-1)\n",
    "    similarities = cosine_similarity(query_embedding, document_embeddings)\n",
    "    sorted_indices = np.argsort(similarities[0])[::-1]\n",
    "    top_scores = np.sort(similarities.flatten())[::-1][:top_k]\n",
    "    return sorted_indices[:top_k], top_scores"
   ]
  },
  {
   "cell_type": "code",
   "execution_count": 52,
   "id": "11ecc49a",
   "metadata": {},
   "outputs": [],
   "source": [
    "def find_relevant_vectors_tfidf(query, documents, top_k=5):\n",
    "    \"\"\"\n",
    "    Finds the most relevant vectors in a collection of documents based on TF-IDF similarity.\n",
    "\n",
    "    Args:\n",
    "        query (str): The query string to compare against the documents.\n",
    "        documents (list): A list of strings representing the documents.\n",
    "        top_k (int): The number of top relevant vectors to return. Default is 5.\n",
    "\n",
    "    Returns:\n",
    "        list: A list of indices representing the top k most relevant vectors in the collection.\n",
    "    \"\"\"\n",
    "    vectorizer = TfidfVectorizer()\n",
    "    tfidf_documents = vectorizer.fit_transform(documents)\n",
    "    tfidf_query = vectorizer.transform([query])\n",
    "    similarities = cosine_similarity(tfidf_query, tfidf_documents)\n",
    "    sorted_indices = np.argsort(similarities[0])[::-1]\n",
    "    return sorted_indices[:top_k]"
   ]
  },
  {
   "cell_type": "code",
   "execution_count": 53,
   "id": "8b169f1d",
   "metadata": {},
   "outputs": [],
   "source": [
    "def rerank_documents(query, extracted_docs_lst):\n",
    "    \"\"\"\n",
    "    Reranks a list of extracted documents based on a given query using the Cohere API.\n",
    "\n",
    "    Args:\n",
    "        query (str): The query to be used for reranking the documents.\n",
    "        extracted_docs_lst (list): A list of extracted documents to be reranked.\n",
    "\n",
    "    Returns:\n",
    "        list : A list of reranked documents indices based on the query.\n",
    "\n",
    "    \"\"\"\n",
    "    co = cohere.Client(api_key = '') # place cohere api key here\n",
    "    results = co.rerank(query = query, documents =extracted_docs_lst , top_n = 3)\n",
    "    reranked_indices = [result.index for result in results.results]\n",
    "    return reranked_indices"
   ]
  },
  {
   "cell_type": "code",
   "execution_count": 54,
   "id": "441634ae",
   "metadata": {},
   "outputs": [],
   "source": [
    "def extract_documents(query, indices, df, similarity):\n",
    "    \"\"\"\n",
    "    Extracts documents from a DataFrame based on given indices and reranks them using a query.\n",
    "    \n",
    "    Args:\n",
    "        query (str): The query used for reranking the documents.\n",
    "        indices (list): A list of indices indicating the documents to be extracted from the DataFrame.\n",
    "        df (pandas.DataFrame): The DataFrame containing the documents.\n",
    "        similarity (list): Cosine similarity of relevant documents\n",
    "        \n",
    "    Returns:\n",
    "        tuple(str, list, list): A tuple containing the extracted documents,the URLs of the extracted documents\n",
    "        and the cosine similarity score.\n",
    "    \"\"\"\n",
    "    extracted_docs_lst = [df.iloc[i]['split_texts'] for i in indices]\n",
    "    extracted_docs_url = np.array([[df.iloc[i]['url'] for i in indices]]).flatten()\n",
    "    reranked_docs_idx = rerank_documents(query, extracted_docs_lst)\n",
    "    cosine_score = [similarity[x] for x in reranked_docs_idx]\n",
    "    reranked_docs = [extracted_docs_lst[x] for x in reranked_docs_idx]\n",
    "    reranked_urls = [extracted_docs_url[x] for x in reranked_docs_idx]\n",
    "    extracted_docs = \" \".join(reranked_docs)\n",
    "    return extracted_docs, reranked_urls, cosine_score"
   ]
  },
  {
   "cell_type": "code",
   "execution_count": 55,
   "id": "24cc5685",
   "metadata": {},
   "outputs": [],
   "source": [
    "embeddings_reshaped = np.vstack(split_embeddings)"
   ]
  },
  {
   "cell_type": "code",
   "execution_count": 56,
   "id": "99a075c0",
   "metadata": {},
   "outputs": [],
   "source": [
    "query = 'What does the company Caravan Health do?'"
   ]
  },
  {
   "cell_type": "code",
   "execution_count": 57,
   "id": "439d77b1",
   "metadata": {},
   "outputs": [],
   "source": [
    "indices_ss, similarity = find_relevant_vectors_cosine(query, embeddings_reshaped)\n",
    "indices_kw = find_relevant_vectors_tfidf(query, df['split_texts'])"
   ]
  },
  {
   "cell_type": "code",
   "execution_count": 58,
   "id": "e9575a19",
   "metadata": {},
   "outputs": [],
   "source": [
    "extracted_docs, extracted_docs_url, cosine_score = extract_documents(query, indices_ss, df, similarity)"
   ]
  },
  {
   "cell_type": "markdown",
   "id": "5bb098c9",
   "metadata": {},
   "source": [
    "### Areas for Improvement\n",
    "To enhance retrieval performance, we could consider employing the following techniques:\n",
    "\n",
    "1. Hybrid Search: Combine semantic search with keyword search for improved results. In our case the keyword-based retrieval falls short,  and additional data cleaning may be necessary. Experimenting with different vectorizer parameters can also boost performance.\n",
    "2. If prior knowledge about the company is available, restrict the retrieval scope accordingly. For instance, if searching for information solely about company X within a pool of other companies, incorporate the company name or ID as metadata for each piece of content. This limits the search scope to relevant information about company X, enhancing retrieval precision.\n",
    "3. Use a Supervised classifier as a filter.\n",
    "4. Reranking (mono BERT, MonoT5, duo BERT)\n",
    "5. SentenceWindow Retrieval"
   ]
  },
  {
   "cell_type": "markdown",
   "id": "c92636b3",
   "metadata": {},
   "source": [
    "## Answer Generation"
   ]
  },
  {
   "cell_type": "code",
   "execution_count": 59,
   "id": "ff9c4fd2",
   "metadata": {},
   "outputs": [],
   "source": [
    "def generate_response(query, extracted_docs):\n",
    "    \"\"\"\n",
    "    Generates a response using the OpenAI GPT-3.5 Turbo model.\n",
    "\n",
    "    Args:\n",
    "        query (str): The user's query.\n",
    "        extracted_docs (str): The extracted documents related to the query.\n",
    "\n",
    "    Returns:\n",
    "        str: The generated response from the GPT-3.5 Turbo model.\n",
    "    \"\"\"\n",
    "    llm_content = query + '\\n\\n' + extracted_docs\n",
    "    response = client.chat.completions.create(\n",
    "      model=\"gpt-3.5-turbo-0125\",\n",
    "        temperature=0.8,\n",
    "      messages=[\n",
    "        {\"role\": \"system\", \"content\": \"You are an helpful assistant. You are helping a user with a question. \\\n",
    "        If you dont know the answer just say I dont know instead of making stuff up and use only\\\n",
    "        the given data to answer the query. If the user asks generic question \\\n",
    "          which is not related to the content, politely ask them to stay within the context\"},\n",
    "        {\"role\": \"user\", \"content\": llm_content}\n",
    "      ]\n",
    "    )\n",
    "    return (response.choices[0].message.content)"
   ]
  },
  {
   "cell_type": "code",
   "execution_count": 60,
   "id": "ccbd5914",
   "metadata": {},
   "outputs": [
    {
     "name": "stdout",
     "output_type": "stream",
     "text": [
      "The company Caravan Health is now known as Signify Health. Signify Health focuses on providing advanced analytics and clinical network services to drive better health outcomes and experiences for health plan members and partners nationwide. They specialize in connecting a fragmented healthcare system, engaging individuals in in-home and virtual care settings, improving outcomes with data-driven insights, and expanding access to value-based care programs.\n",
      "Source Documents: \n",
      " Company name: Caravan Health Close navigation Individuals & Families Preparing For Your Visit What is an In-home Health Evaluation? Schedule a visit Solutions In-home Health Evaluations Diagnostic and Preventive Services CVS Accountable Care Product Innovation Who We Serve: Health Plans Hospitals and Health Systems Individuals and Families Partners About Us Our Story Culture Leadership Team Investor Relations Insights Blog Events News Resources Careers Signify Health Careers Life at Signify Join our Team Search Jobs Ireland Careers Career Paths Technology Professional Call Center Clinical Contact us Search Close navigation Who We Serve Individuals & Families Health Plans Hospitals, Health Systems & Clinicians CMS Reporting Solutions In-home Health Evaluations Diagnostic & Preventive Services CVS Accountable Care Partners About Us Our Story Culture Leadership Team Insights Blog News Resources Careers Signify Health Careers Life at Signify Join our Team Search Jobs Career Paths Technology Professional Call Center Clinical Ireland R&D Careers Contact Us Search Signify Health is part of CVS Healthspire™ Powering value-based care We believe healthcare should meet people where they want to be. That’s why we’re building a more connected, effective care experience for all. Find what you're looking for Individuals and families Payors Providers Enabling the shift to value. Powered by a unique data and technology backbone, our advanced analytics, and clinical network combine to drive better outcomes and experiences for health plan members and our partners nationwide. Connecting a fragmented system We provide organizations access to the scale, technology, and expertise vital to succeeding in value-based care. Engaging people wherever they receive care Our extensive in-home and virtual engagements provide unparalleled visibility into people’s unique needs –clinical, social, and behavioral – and help us deliver actionable insights on the factors impacting their health outcomes and total cost of care. Improving outcomes with insights Our robust analytics enable us to focus resources where and when they’re needed. From data-driven member identification to the closure of crucial care gaps, our in-home evaluation services reach the right people, right at home. Expanding access to value-based programs Our expertise, enablement tools, and network relationships help payors and providers focus on a common goal: delivering a more connected, intuitive, and effective care experience for the people they serve. We are Signify Health. We're changing healthcare outcomes, payments, and experiences. Our story × A more connected, effective care experience for all 2.3M in-home evaluations 11,000+ licensed providers, deployable to all 50 states 2 ~ $630M total savings to Medicare ~11K Medicare ACO PCP partners Success-based pricing model 100% average MIPS score for Signify Health Collaborative ACOs Dedicated population health management ~ 750+K attributed Medicare lives \"We go to all lengths possible...to ensure that we're lifting up the quality of life for the individuals that we get to make an impact on every day.\" Hear CEO Kyle Armbrester tell our story × News & insights News CVS Health Completes Acquisition of Signify Health More Blog Honoring Signify Health physicians: Closing care gaps across the country More Webinars How to scale value-based care to a sustainable business model More White Paper Spirometry: closing risk-based and quality-based gaps in care for patients with COPD More Videos How Signify Health is creating a healthy home in Oklahoma with its new regional service center More On-demand Session NRHA Critical Access Hospital Conference on-demand session More See why we love to call Signify Health home. Stories of significance × My in-home visit: Kurt's story In-home Health Evaluations are among the ways Signify Health helps people on the journey toward better health. Watch Kurt's story to learn more. Watch the video A highly-valued service We’re privileged to deliver high-touch clinical support to thousands of people every year, improving their outcomes and experiences. See their feedback Stay up to date with news and insights Have you booked your annual In-home Health Evaluation? Schedule now . Toggle navigation Who We Serve Individuals & Families Health Plans Hospitals, Health Systems & Clinicians CMS Reporting Solutions In-home Health Evaluations Diagnostic & Preventive Services CVS Accountable Care Partners About Us Our Story Culture Leadership Team Insights Blog News Resources Careers Signify Health Careers Life at Signify Join our Team Search Jobs Career Paths Technology Professional Call Center Clinical Ireland R&D Careers Contact Us Search Policies - HAI Global\n",
      "Source URL: \n",
      " ['https://www.signifyhealth.com/', 'https://www.signifyhealth.com/', 'https://www1.hai.org/policies/']\n",
      "Cosine Similarity scores: \n",
      " [0.4844189039211242, 0.42452068440101454, 0.34456003540892155]\n"
     ]
    }
   ],
   "source": [
    "llm_answer = generate_response(query, extracted_docs)\n",
    "print(llm_answer)\n",
    "print(\"Source Documents: \\n\", extracted_docs)\n",
    "print(\"Source URL: \\n\", extracted_docs_url)\n",
    "print(\"Cosine Similarity scores: \\n\", cosine_score)"
   ]
  },
  {
   "cell_type": "markdown",
   "id": "6c5fc21b",
   "metadata": {},
   "source": [
    "## General Areas for Improvements\n",
    "- Some of the texts are in other language. They could be translated to english. If translation is not possible we could use multi language embeddings.\n",
    "- Cosine similarity scores can be normalized using min max scaling i.e highest value in the list is assigned a value of 1 and the rest of the values are scaled accordingly.\n",
    "- Use robust metrics for RAG evaluation (RAGAS: Faithfulness, Answer relvance, Context Precision, Context Recall and Context Relevance)"
   ]
  },
  {
   "cell_type": "markdown",
   "id": "b9f48611",
   "metadata": {},
   "source": [
    "## References\n",
    "\n",
    "1. https://help.openai.com/en/articles/4936856-what-are-tokens-and-how-to-count-them"
   ]
  },
  {
   "cell_type": "code",
   "execution_count": null,
   "id": "95f65ff8",
   "metadata": {},
   "outputs": [],
   "source": []
  }
 ],
 "metadata": {
  "kernelspec": {
   "display_name": "gw_env",
   "language": "python",
   "name": "gw_env"
  },
  "language_info": {
   "codemirror_mode": {
    "name": "ipython",
    "version": 3
   },
   "file_extension": ".py",
   "mimetype": "text/x-python",
   "name": "python",
   "nbconvert_exporter": "python",
   "pygments_lexer": "ipython3",
   "version": "3.10.11"
  }
 },
 "nbformat": 4,
 "nbformat_minor": 5
}
